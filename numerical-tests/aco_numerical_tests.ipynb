{
 "cells": [
  {
   "cell_type": "code",
   "execution_count": 1,
   "outputs": [],
   "source": [
    "from src.aco.ACOSolver import ACOSolver\n",
    "from matplotlib import pyplot as plt\n",
    "import pandas as pd\n",
    "import numpy as np\n",
    "import os\n",
    "%matplotlib inline"
   ],
   "metadata": {
    "collapsed": false,
    "pycharm": {
     "name": "#%%\n"
    }
   }
  },
  {
   "cell_type": "code",
   "execution_count": 2,
   "outputs": [],
   "source": [
    "np.random.seed(42)"
   ],
   "metadata": {
    "collapsed": false,
    "pycharm": {
     "name": "#%%\n"
    }
   }
  },
  {
   "cell_type": "markdown",
   "source": [
    "## Porównanie czasów rozwiązań\n",
    "Średnie i odchylenia standardowe czasów rozwiązań przykładowych Sudoku"
   ],
   "metadata": {
    "collapsed": false,
    "pycharm": {
     "name": "#%% md\n"
    }
   }
  },
  {
   "cell_type": "code",
   "execution_count": 3,
   "outputs": [],
   "source": [
    "time_results = pd.DataFrame(columns=['level', 'board_name', 'time_mean', 'time_std', 'time_min', 'time_max', 'iter_mean', 'iter_std', 'iter_min', 'iter_max', 'num_failed'])"
   ],
   "metadata": {
    "collapsed": false,
    "pycharm": {
     "name": "#%%\n"
    }
   }
  },
  {
   "cell_type": "code",
   "execution_count": 4,
   "outputs": [],
   "source": [
    "BOARD_PATHS = [f\"../resources/boards/logic-solvable/{d}/{f}\" for d in os.listdir('../resources/boards/logic-solvable') for f in os.listdir(f\"../resources/boards/logic-solvable/{d}\")]\n",
    "NUM_RUNS = 10"
   ],
   "metadata": {
    "collapsed": false,
    "pycharm": {
     "name": "#%%\n"
    }
   }
  },
  {
   "cell_type": "code",
   "execution_count": 5,
   "outputs": [
    {
     "name": "stdout",
     "output_type": "stream",
     "text": [
      "Solving board2.txt ...\n",
      "Solved board2.txt\n",
      "Solving platiniumblonde.txt ...\n",
      "Solved platiniumblonde.txt\n",
      "Solving aiescargot.txt ...\n",
      "Solved aiescargot.txt\n",
      "Solving board1.txt ...\n",
      "Solved board1.txt\n",
      "Solving coly013.txt ...\n",
      "Solved coly013.txt\n",
      "Solving reddwarf.txt ...\n",
      "Solved reddwarf.txt\n",
      "Solving sabuncu1.txt ...\n",
      "Solved sabuncu1.txt\n",
      "Solving board3.txt ...\n",
      "Solved board3.txt\n",
      "Solving goldennugget.txt ...\n",
      "Solved goldennugget.txt\n",
      "Solving board2.txt ...\n",
      "Solved board2.txt\n",
      "Solving board1.txt ...\n",
      "Solved board1.txt\n",
      "Solving board3.txt ...\n",
      "Solved board3.txt\n",
      "Solving board2.txt ...\n",
      "Solved board2.txt\n",
      "Solving board1.txt ...\n",
      "Solved board1.txt\n",
      "Solving board3.txt ...\n",
      "Solved board3.txt\n"
     ]
    }
   ],
   "source": [
    "for board_path in BOARD_PATHS:\n",
    "    times = []\n",
    "    iterations = []\n",
    "    num_failed = 0\n",
    "    print(f\"Solving {board_path.split('/')[-1]} ...\")\n",
    "    for i in range(NUM_RUNS):\n",
    "        solver = ACOSolver(\n",
    "                board_size=9,\n",
    "                board_file=board_path,\n",
    "                num_ants=10,\n",
    "                max_iterations=1000,\n",
    "                greediness=0.9,\n",
    "                pheromone_decay=0.1,\n",
    "                evaporation_rate=0.9,\n",
    "                best_evaporation_rate=0.005\n",
    "                )\n",
    "        is_solved, iterations_needed = solver.solve(logging=False)\n",
    "        times.append(solver.solution_time)\n",
    "        iterations.append(iterations_needed)\n",
    "        if not is_solved:\n",
    "            num_failed += 1\n",
    "    time_results = pd.concat([time_results, pd.DataFrame({\n",
    "            'level': [board_path.split('/')[-2]],\n",
    "            'board_name': [board_path.split('/')[-1]],\n",
    "            'time_mean': [np.mean(times)],\n",
    "            'time_std': [np.std(times)],\n",
    "            'time_min': [np.min(times)],\n",
    "            'time_max': [np.max(times)],\n",
    "            'iter_mean': [np.mean(iterations)],\n",
    "            'iter_std': [np.std(iterations)],\n",
    "            'iter_min': [np.min(iterations)],\n",
    "            'iter_max': [np.max(iterations)],\n",
    "            'num_failed': num_failed\n",
    "            })], ignore_index=True, axis=0)\n",
    "    print(f\"Solved {board_path.split('/')[-1]}\")"
   ],
   "metadata": {
    "collapsed": false,
    "pycharm": {
     "name": "#%%\n"
    }
   }
  },
  {
   "cell_type": "code",
   "execution_count": 6,
   "outputs": [],
   "source": [
    "time_results.to_csv(path_or_buf='aco_experiment_results/time_results.csv', index=False)"
   ],
   "metadata": {
    "collapsed": false,
    "pycharm": {
     "name": "#%%\n"
    }
   }
  },
  {
   "cell_type": "code",
   "execution_count": 7,
   "outputs": [
    {
     "data": {
      "text/plain": "     level           board_name  time_mean   time_std  time_min    time_max  \\\n0     hard           board2.txt   0.008237    0.00046  0.007951    0.009546   \n1     hard  platiniumblonde.txt   7.379472   4.399964  1.763984   16.897476   \n2     hard       aiescargot.txt   2.296638   2.302634  0.300747    7.000002   \n3     hard           board1.txt   0.056021   0.048081  0.007791    0.109538   \n4     hard          coly013.txt  60.385985  30.531681  0.317013  111.901234   \n5     hard         reddwarf.txt   4.976581   2.963562  1.529966   11.401201   \n6     hard         sabuncu1.txt   0.010649   0.007739  0.008011    0.033865   \n7     hard           board3.txt   0.141398   0.038366  0.127631    0.256466   \n8     hard     goldennugget.txt   4.813647   5.399939  0.310359   19.976974   \n9   medium           board2.txt   0.008124   0.000101  0.007974    0.008316   \n10  medium           board1.txt   0.010941   0.008239  0.008043    0.035655   \n11  medium           board3.txt   0.008118   0.000062  0.008059    0.008277   \n12    easy           board2.txt   0.008112   0.000053  0.008041    0.008249   \n13    easy           board1.txt   0.008119   0.000061  0.008023    0.008256   \n14    easy           board3.txt   0.008114   0.000046  0.008072    0.008245   \n\n   iter_mean    iter_std iter_min iter_max num_failed  \n0        1.0         0.0        1        1          0  \n1       47.0   28.017851       11      107          0  \n2       16.3   16.468455        2       50          0  \n3        1.0         0.0        1        1          0  \n4      381.2  193.297077        2      704          0  \n5       32.4   19.252013       10       74          0  \n6        1.0         0.0        1        1          0  \n7        1.1         0.3        1        2          0  \n8       30.7   34.327977        2      127          0  \n9        1.0         0.0        1        1          0  \n10       1.0         0.0        1        1          0  \n11       1.0         0.0        1        1          0  \n12       1.0         0.0        1        1          0  \n13       1.0         0.0        1        1          0  \n14       1.0         0.0        1        1          0  ",
      "text/html": "<div>\n<style scoped>\n    .dataframe tbody tr th:only-of-type {\n        vertical-align: middle;\n    }\n\n    .dataframe tbody tr th {\n        vertical-align: top;\n    }\n\n    .dataframe thead th {\n        text-align: right;\n    }\n</style>\n<table border=\"1\" class=\"dataframe\">\n  <thead>\n    <tr style=\"text-align: right;\">\n      <th></th>\n      <th>level</th>\n      <th>board_name</th>\n      <th>time_mean</th>\n      <th>time_std</th>\n      <th>time_min</th>\n      <th>time_max</th>\n      <th>iter_mean</th>\n      <th>iter_std</th>\n      <th>iter_min</th>\n      <th>iter_max</th>\n      <th>num_failed</th>\n    </tr>\n  </thead>\n  <tbody>\n    <tr>\n      <th>0</th>\n      <td>hard</td>\n      <td>board2.txt</td>\n      <td>0.008237</td>\n      <td>0.00046</td>\n      <td>0.007951</td>\n      <td>0.009546</td>\n      <td>1.0</td>\n      <td>0.0</td>\n      <td>1</td>\n      <td>1</td>\n      <td>0</td>\n    </tr>\n    <tr>\n      <th>1</th>\n      <td>hard</td>\n      <td>platiniumblonde.txt</td>\n      <td>7.379472</td>\n      <td>4.399964</td>\n      <td>1.763984</td>\n      <td>16.897476</td>\n      <td>47.0</td>\n      <td>28.017851</td>\n      <td>11</td>\n      <td>107</td>\n      <td>0</td>\n    </tr>\n    <tr>\n      <th>2</th>\n      <td>hard</td>\n      <td>aiescargot.txt</td>\n      <td>2.296638</td>\n      <td>2.302634</td>\n      <td>0.300747</td>\n      <td>7.000002</td>\n      <td>16.3</td>\n      <td>16.468455</td>\n      <td>2</td>\n      <td>50</td>\n      <td>0</td>\n    </tr>\n    <tr>\n      <th>3</th>\n      <td>hard</td>\n      <td>board1.txt</td>\n      <td>0.056021</td>\n      <td>0.048081</td>\n      <td>0.007791</td>\n      <td>0.109538</td>\n      <td>1.0</td>\n      <td>0.0</td>\n      <td>1</td>\n      <td>1</td>\n      <td>0</td>\n    </tr>\n    <tr>\n      <th>4</th>\n      <td>hard</td>\n      <td>coly013.txt</td>\n      <td>60.385985</td>\n      <td>30.531681</td>\n      <td>0.317013</td>\n      <td>111.901234</td>\n      <td>381.2</td>\n      <td>193.297077</td>\n      <td>2</td>\n      <td>704</td>\n      <td>0</td>\n    </tr>\n    <tr>\n      <th>5</th>\n      <td>hard</td>\n      <td>reddwarf.txt</td>\n      <td>4.976581</td>\n      <td>2.963562</td>\n      <td>1.529966</td>\n      <td>11.401201</td>\n      <td>32.4</td>\n      <td>19.252013</td>\n      <td>10</td>\n      <td>74</td>\n      <td>0</td>\n    </tr>\n    <tr>\n      <th>6</th>\n      <td>hard</td>\n      <td>sabuncu1.txt</td>\n      <td>0.010649</td>\n      <td>0.007739</td>\n      <td>0.008011</td>\n      <td>0.033865</td>\n      <td>1.0</td>\n      <td>0.0</td>\n      <td>1</td>\n      <td>1</td>\n      <td>0</td>\n    </tr>\n    <tr>\n      <th>7</th>\n      <td>hard</td>\n      <td>board3.txt</td>\n      <td>0.141398</td>\n      <td>0.038366</td>\n      <td>0.127631</td>\n      <td>0.256466</td>\n      <td>1.1</td>\n      <td>0.3</td>\n      <td>1</td>\n      <td>2</td>\n      <td>0</td>\n    </tr>\n    <tr>\n      <th>8</th>\n      <td>hard</td>\n      <td>goldennugget.txt</td>\n      <td>4.813647</td>\n      <td>5.399939</td>\n      <td>0.310359</td>\n      <td>19.976974</td>\n      <td>30.7</td>\n      <td>34.327977</td>\n      <td>2</td>\n      <td>127</td>\n      <td>0</td>\n    </tr>\n    <tr>\n      <th>9</th>\n      <td>medium</td>\n      <td>board2.txt</td>\n      <td>0.008124</td>\n      <td>0.000101</td>\n      <td>0.007974</td>\n      <td>0.008316</td>\n      <td>1.0</td>\n      <td>0.0</td>\n      <td>1</td>\n      <td>1</td>\n      <td>0</td>\n    </tr>\n    <tr>\n      <th>10</th>\n      <td>medium</td>\n      <td>board1.txt</td>\n      <td>0.010941</td>\n      <td>0.008239</td>\n      <td>0.008043</td>\n      <td>0.035655</td>\n      <td>1.0</td>\n      <td>0.0</td>\n      <td>1</td>\n      <td>1</td>\n      <td>0</td>\n    </tr>\n    <tr>\n      <th>11</th>\n      <td>medium</td>\n      <td>board3.txt</td>\n      <td>0.008118</td>\n      <td>0.000062</td>\n      <td>0.008059</td>\n      <td>0.008277</td>\n      <td>1.0</td>\n      <td>0.0</td>\n      <td>1</td>\n      <td>1</td>\n      <td>0</td>\n    </tr>\n    <tr>\n      <th>12</th>\n      <td>easy</td>\n      <td>board2.txt</td>\n      <td>0.008112</td>\n      <td>0.000053</td>\n      <td>0.008041</td>\n      <td>0.008249</td>\n      <td>1.0</td>\n      <td>0.0</td>\n      <td>1</td>\n      <td>1</td>\n      <td>0</td>\n    </tr>\n    <tr>\n      <th>13</th>\n      <td>easy</td>\n      <td>board1.txt</td>\n      <td>0.008119</td>\n      <td>0.000061</td>\n      <td>0.008023</td>\n      <td>0.008256</td>\n      <td>1.0</td>\n      <td>0.0</td>\n      <td>1</td>\n      <td>1</td>\n      <td>0</td>\n    </tr>\n    <tr>\n      <th>14</th>\n      <td>easy</td>\n      <td>board3.txt</td>\n      <td>0.008114</td>\n      <td>0.000046</td>\n      <td>0.008072</td>\n      <td>0.008245</td>\n      <td>1.0</td>\n      <td>0.0</td>\n      <td>1</td>\n      <td>1</td>\n      <td>0</td>\n    </tr>\n  </tbody>\n</table>\n</div>"
     },
     "execution_count": 7,
     "metadata": {},
     "output_type": "execute_result"
    }
   ],
   "source": [
    "time_results"
   ],
   "metadata": {
    "collapsed": false,
    "pycharm": {
     "name": "#%%\n"
    }
   }
  },
  {
   "cell_type": "markdown",
   "source": [
    "## Porównanie hiperparametrów\n",
    "Dokonam porównania wpływu hiperparametrów na uśrednionych wynikach rozwiązując Sudoku **aiescargot**"
   ],
   "metadata": {
    "collapsed": false,
    "pycharm": {
     "name": "#%% md\n"
    }
   }
  },
  {
   "cell_type": "markdown",
   "source": [
    "#### Liczba mrówek"
   ],
   "metadata": {
    "collapsed": false,
    "pycharm": {
     "name": "#%% md\n"
    }
   }
  },
  {
   "cell_type": "code",
   "execution_count": 24,
   "outputs": [],
   "source": [
    "NUM_ANTS = [1, 5, 10, 20, 50, 100]\n",
    "BOARD_PATH = f\"../resources/boards/logic-solvable/hard/aiescargot.txt\""
   ],
   "metadata": {
    "collapsed": false,
    "pycharm": {
     "name": "#%%\n"
    }
   }
  },
  {
   "cell_type": "code",
   "execution_count": 25,
   "outputs": [],
   "source": [
    "ants_results = pd.DataFrame()"
   ],
   "metadata": {
    "collapsed": false,
    "pycharm": {
     "name": "#%%\n"
    }
   }
  },
  {
   "cell_type": "code",
   "execution_count": 26,
   "outputs": [
    {
     "name": "stdout",
     "output_type": "stream",
     "text": [
      "Solving for 1 ants ...\n",
      "Solved for 1 ants\n",
      "Solving for 5 ants ...\n",
      "Solved for 5 ants\n",
      "Solving for 10 ants ...\n",
      "Solved for 10 ants\n",
      "Solving for 20 ants ...\n",
      "Solved for 20 ants\n",
      "Solving for 50 ants ...\n",
      "Solved for 50 ants\n",
      "Solving for 100 ants ...\n",
      "Solved for 100 ants\n"
     ]
    }
   ],
   "source": [
    "for num_ants in NUM_ANTS:\n",
    "    times = []\n",
    "    iterations = []\n",
    "    num_failed = 0\n",
    "    print(f\"Solving for {num_ants} ants ...\")\n",
    "    for i in range(NUM_RUNS):\n",
    "        solver = ACOSolver(\n",
    "                board_size=9,\n",
    "                board_file=BOARD_PATH,\n",
    "                num_ants=num_ants,\n",
    "                max_iterations=1000,\n",
    "                greediness=0.9,\n",
    "                pheromone_decay=0.1,\n",
    "                evaporation_rate=0.9,\n",
    "                best_evaporation_rate=0.005\n",
    "                )\n",
    "        is_solved, iterations_needed = solver.solve(logging=False)\n",
    "        times.append(solver.solution_time)\n",
    "        iterations.append(iterations_needed)\n",
    "        if not is_solved:\n",
    "            num_failed += 1\n",
    "    ants_results = pd.concat([ants_results, pd.DataFrame({\n",
    "            'board_name': BOARD_PATH.split('/')[-1],\n",
    "            'num_ants': num_ants,\n",
    "            'greediness': 0.9,\n",
    "            'pheromone_decay': 0.1,\n",
    "            'evaporation_rate': 0.9,\n",
    "            'best_evaporation_rate': 0.005,\n",
    "            'time_mean': [np.mean(times)],\n",
    "            'time_std': [np.std(times)],\n",
    "            'time_min': [np.min(times)],\n",
    "            'time_max': [np.max(times)],\n",
    "            'iter_mean': [np.mean(iterations)],\n",
    "            'iter_std': [np.std(iterations)],\n",
    "            'iter_min': [np.min(iterations)],\n",
    "            'iter_max': [np.max(iterations)],\n",
    "            'num_failed': num_failed\n",
    "            })], ignore_index=True, axis=0)\n",
    "    print(f\"Solved for {num_ants} ants\")"
   ],
   "metadata": {
    "collapsed": false,
    "pycharm": {
     "name": "#%%\n"
    }
   }
  },
  {
   "cell_type": "code",
   "execution_count": 27,
   "outputs": [
    {
     "data": {
      "text/plain": "       board_name num_ants time_mean  time_std  time_min  time_max iter_mean  \\\n0  aiescargot.txt        1  2.130303  2.052961  0.016049  6.241137     141.1   \n1  aiescargot.txt        5  1.696088  1.369534  0.069689   4.16591      23.9   \n2  aiescargot.txt       10  2.643056   2.41727  0.140337  6.584667      18.5   \n3  aiescargot.txt       20  1.741025  1.740749  0.282234  5.700544       6.1   \n4  aiescargot.txt       50  2.030617  1.234126  0.685312  4.944113       2.9   \n5  aiescargot.txt      100  2.516237  1.852695  1.381131  7.037459       1.8   \n\n     iter_std iter_min iter_max num_failed  greediness  pheromone_decay  \\\n0  135.792084        1      413          0         0.9              0.1   \n1    19.31036        1       59          0         0.9              0.1   \n2   16.930741        1       46          0         0.9              0.1   \n3    6.106554        1       20          0         0.9              0.1   \n4     1.75784        1        7          0         0.9              0.1   \n5     1.32665        1        5          0         0.9              0.1   \n\n   evaporation_rate  best_evaporation_rate  \n0               0.9                  0.005  \n1               0.9                  0.005  \n2               0.9                  0.005  \n3               0.9                  0.005  \n4               0.9                  0.005  \n5               0.9                  0.005  ",
      "text/html": "<div>\n<style scoped>\n    .dataframe tbody tr th:only-of-type {\n        vertical-align: middle;\n    }\n\n    .dataframe tbody tr th {\n        vertical-align: top;\n    }\n\n    .dataframe thead th {\n        text-align: right;\n    }\n</style>\n<table border=\"1\" class=\"dataframe\">\n  <thead>\n    <tr style=\"text-align: right;\">\n      <th></th>\n      <th>board_name</th>\n      <th>num_ants</th>\n      <th>time_mean</th>\n      <th>time_std</th>\n      <th>time_min</th>\n      <th>time_max</th>\n      <th>iter_mean</th>\n      <th>iter_std</th>\n      <th>iter_min</th>\n      <th>iter_max</th>\n      <th>num_failed</th>\n      <th>greediness</th>\n      <th>pheromone_decay</th>\n      <th>evaporation_rate</th>\n      <th>best_evaporation_rate</th>\n    </tr>\n  </thead>\n  <tbody>\n    <tr>\n      <th>0</th>\n      <td>aiescargot.txt</td>\n      <td>1</td>\n      <td>2.130303</td>\n      <td>2.052961</td>\n      <td>0.016049</td>\n      <td>6.241137</td>\n      <td>141.1</td>\n      <td>135.792084</td>\n      <td>1</td>\n      <td>413</td>\n      <td>0</td>\n      <td>0.9</td>\n      <td>0.1</td>\n      <td>0.9</td>\n      <td>0.005</td>\n    </tr>\n    <tr>\n      <th>1</th>\n      <td>aiescargot.txt</td>\n      <td>5</td>\n      <td>1.696088</td>\n      <td>1.369534</td>\n      <td>0.069689</td>\n      <td>4.16591</td>\n      <td>23.9</td>\n      <td>19.31036</td>\n      <td>1</td>\n      <td>59</td>\n      <td>0</td>\n      <td>0.9</td>\n      <td>0.1</td>\n      <td>0.9</td>\n      <td>0.005</td>\n    </tr>\n    <tr>\n      <th>2</th>\n      <td>aiescargot.txt</td>\n      <td>10</td>\n      <td>2.643056</td>\n      <td>2.41727</td>\n      <td>0.140337</td>\n      <td>6.584667</td>\n      <td>18.5</td>\n      <td>16.930741</td>\n      <td>1</td>\n      <td>46</td>\n      <td>0</td>\n      <td>0.9</td>\n      <td>0.1</td>\n      <td>0.9</td>\n      <td>0.005</td>\n    </tr>\n    <tr>\n      <th>3</th>\n      <td>aiescargot.txt</td>\n      <td>20</td>\n      <td>1.741025</td>\n      <td>1.740749</td>\n      <td>0.282234</td>\n      <td>5.700544</td>\n      <td>6.1</td>\n      <td>6.106554</td>\n      <td>1</td>\n      <td>20</td>\n      <td>0</td>\n      <td>0.9</td>\n      <td>0.1</td>\n      <td>0.9</td>\n      <td>0.005</td>\n    </tr>\n    <tr>\n      <th>4</th>\n      <td>aiescargot.txt</td>\n      <td>50</td>\n      <td>2.030617</td>\n      <td>1.234126</td>\n      <td>0.685312</td>\n      <td>4.944113</td>\n      <td>2.9</td>\n      <td>1.75784</td>\n      <td>1</td>\n      <td>7</td>\n      <td>0</td>\n      <td>0.9</td>\n      <td>0.1</td>\n      <td>0.9</td>\n      <td>0.005</td>\n    </tr>\n    <tr>\n      <th>5</th>\n      <td>aiescargot.txt</td>\n      <td>100</td>\n      <td>2.516237</td>\n      <td>1.852695</td>\n      <td>1.381131</td>\n      <td>7.037459</td>\n      <td>1.8</td>\n      <td>1.32665</td>\n      <td>1</td>\n      <td>5</td>\n      <td>0</td>\n      <td>0.9</td>\n      <td>0.1</td>\n      <td>0.9</td>\n      <td>0.005</td>\n    </tr>\n  </tbody>\n</table>\n</div>"
     },
     "execution_count": 27,
     "metadata": {},
     "output_type": "execute_result"
    }
   ],
   "source": [
    "ants_results"
   ],
   "metadata": {
    "collapsed": false,
    "pycharm": {
     "name": "#%%\n"
    }
   }
  },
  {
   "cell_type": "code",
   "execution_count": 28,
   "outputs": [],
   "source": [
    "ants_results.to_csv(path_or_buf='aco_experiment_results/ants_results.csv', index=False)"
   ],
   "metadata": {
    "collapsed": false,
    "pycharm": {
     "name": "#%%\n"
    }
   }
  },
  {
   "cell_type": "markdown",
   "source": [
    "#### Zachłanność algorytmu"
   ],
   "metadata": {
    "collapsed": false,
    "pycharm": {
     "name": "#%% md\n"
    }
   }
  },
  {
   "cell_type": "code",
   "execution_count": 29,
   "outputs": [],
   "source": [
    "GREEDINESS = np.arange(0, 1, 0.3)"
   ],
   "metadata": {
    "collapsed": false,
    "pycharm": {
     "name": "#%%\n"
    }
   }
  },
  {
   "cell_type": "code",
   "execution_count": 31,
   "outputs": [],
   "source": [
    "greediness_results = pd.DataFrame()"
   ],
   "metadata": {
    "collapsed": false,
    "pycharm": {
     "name": "#%%\n"
    }
   }
  },
  {
   "cell_type": "code",
   "execution_count": 32,
   "outputs": [
    {
     "name": "stdout",
     "output_type": "stream",
     "text": [
      "Solving for greediness=0.0 ...\n",
      "Solved for greediness=0.0\n",
      "Solving for greediness=0.3 ...\n",
      "Solved for greediness=0.3\n",
      "Solving for greediness=0.6 ...\n",
      "Solved for greediness=0.6\n",
      "Solving for greediness=0.8999999999999999 ...\n",
      "Solved for greediness=0.8999999999999999\n"
     ]
    }
   ],
   "source": [
    "for greediness in GREEDINESS:\n",
    "    times = []\n",
    "    iterations = []\n",
    "    num_failed = 0\n",
    "    print(f\"Solving for greediness={greediness} ...\")\n",
    "    for i in range(NUM_RUNS):\n",
    "        solver = ACOSolver(\n",
    "                board_size=9,\n",
    "                board_file=BOARD_PATH,\n",
    "                num_ants=10,\n",
    "                max_iterations=1000,\n",
    "                greediness=greediness,\n",
    "                pheromone_decay=0.1,\n",
    "                evaporation_rate=0.9,\n",
    "                best_evaporation_rate=0.005\n",
    "                )\n",
    "        is_solved, iterations_needed = solver.solve(logging=False)\n",
    "        times.append(solver.solution_time)\n",
    "        iterations.append(iterations_needed)\n",
    "        if not is_solved:\n",
    "            num_failed += 1\n",
    "    greediness_results = pd.concat([greediness_results, pd.DataFrame({\n",
    "            'board_name': BOARD_PATH.split('/')[-1],\n",
    "            'num_ants': 10,\n",
    "            'greediness': greediness,\n",
    "            'pheromone_decay': 0.1,\n",
    "            'evaporation_rate': 0.9,\n",
    "            'best_evaporation_rate': 0.005,\n",
    "            'time_mean': [np.mean(times)],\n",
    "            'time_std': [np.std(times)],\n",
    "            'time_min': [np.min(times)],\n",
    "            'time_max': [np.max(times)],\n",
    "            'iter_mean': [np.mean(iterations)],\n",
    "            'iter_std': [np.std(iterations)],\n",
    "            'iter_min': [np.min(iterations)],\n",
    "            'iter_max': [np.max(iterations)],\n",
    "            'num_failed': num_failed\n",
    "            })], ignore_index=True, axis=0)\n",
    "    print(f\"Solved for greediness={greediness}\")"
   ],
   "metadata": {
    "collapsed": false,
    "pycharm": {
     "name": "#%%\n"
    }
   }
  },
  {
   "cell_type": "code",
   "execution_count": 33,
   "outputs": [
    {
     "data": {
      "text/plain": "       board_name  num_ants  greediness  pheromone_decay  evaporation_rate  \\\n0  aiescargot.txt        10         0.0              0.1               0.9   \n1  aiescargot.txt        10         0.3              0.1               0.9   \n2  aiescargot.txt        10         0.6              0.1               0.9   \n3  aiescargot.txt        10         0.9              0.1               0.9   \n\n   best_evaporation_rate  time_mean  time_std  time_min   time_max  iter_mean  \\\n0                  0.005   8.700265  9.754403  0.431937  33.120584       59.3   \n1                  0.005   4.474088  2.726399  0.566260   8.544778       31.3   \n2                  0.005   3.725534  2.602809  0.288094   7.738851       26.0   \n3                  0.005   2.682603  1.987303  0.144139   6.083056       18.6   \n\n    iter_std  iter_min  iter_max  num_failed  \n0  65.456932         3       221           0  \n1  19.047572         4        60           0  \n2  18.187908         2        54           0  \n3  13.770984         1        42           0  ",
      "text/html": "<div>\n<style scoped>\n    .dataframe tbody tr th:only-of-type {\n        vertical-align: middle;\n    }\n\n    .dataframe tbody tr th {\n        vertical-align: top;\n    }\n\n    .dataframe thead th {\n        text-align: right;\n    }\n</style>\n<table border=\"1\" class=\"dataframe\">\n  <thead>\n    <tr style=\"text-align: right;\">\n      <th></th>\n      <th>board_name</th>\n      <th>num_ants</th>\n      <th>greediness</th>\n      <th>pheromone_decay</th>\n      <th>evaporation_rate</th>\n      <th>best_evaporation_rate</th>\n      <th>time_mean</th>\n      <th>time_std</th>\n      <th>time_min</th>\n      <th>time_max</th>\n      <th>iter_mean</th>\n      <th>iter_std</th>\n      <th>iter_min</th>\n      <th>iter_max</th>\n      <th>num_failed</th>\n    </tr>\n  </thead>\n  <tbody>\n    <tr>\n      <th>0</th>\n      <td>aiescargot.txt</td>\n      <td>10</td>\n      <td>0.0</td>\n      <td>0.1</td>\n      <td>0.9</td>\n      <td>0.005</td>\n      <td>8.700265</td>\n      <td>9.754403</td>\n      <td>0.431937</td>\n      <td>33.120584</td>\n      <td>59.3</td>\n      <td>65.456932</td>\n      <td>3</td>\n      <td>221</td>\n      <td>0</td>\n    </tr>\n    <tr>\n      <th>1</th>\n      <td>aiescargot.txt</td>\n      <td>10</td>\n      <td>0.3</td>\n      <td>0.1</td>\n      <td>0.9</td>\n      <td>0.005</td>\n      <td>4.474088</td>\n      <td>2.726399</td>\n      <td>0.566260</td>\n      <td>8.544778</td>\n      <td>31.3</td>\n      <td>19.047572</td>\n      <td>4</td>\n      <td>60</td>\n      <td>0</td>\n    </tr>\n    <tr>\n      <th>2</th>\n      <td>aiescargot.txt</td>\n      <td>10</td>\n      <td>0.6</td>\n      <td>0.1</td>\n      <td>0.9</td>\n      <td>0.005</td>\n      <td>3.725534</td>\n      <td>2.602809</td>\n      <td>0.288094</td>\n      <td>7.738851</td>\n      <td>26.0</td>\n      <td>18.187908</td>\n      <td>2</td>\n      <td>54</td>\n      <td>0</td>\n    </tr>\n    <tr>\n      <th>3</th>\n      <td>aiescargot.txt</td>\n      <td>10</td>\n      <td>0.9</td>\n      <td>0.1</td>\n      <td>0.9</td>\n      <td>0.005</td>\n      <td>2.682603</td>\n      <td>1.987303</td>\n      <td>0.144139</td>\n      <td>6.083056</td>\n      <td>18.6</td>\n      <td>13.770984</td>\n      <td>1</td>\n      <td>42</td>\n      <td>0</td>\n    </tr>\n  </tbody>\n</table>\n</div>"
     },
     "execution_count": 33,
     "metadata": {},
     "output_type": "execute_result"
    }
   ],
   "source": [
    "greediness_results"
   ],
   "metadata": {
    "collapsed": false,
    "pycharm": {
     "name": "#%%\n"
    }
   }
  },
  {
   "cell_type": "code",
   "execution_count": 34,
   "outputs": [],
   "source": [
    "greediness_results.to_csv(path_or_buf='aco_experiment_results/greediness_results.csv', index=False)"
   ],
   "metadata": {
    "collapsed": false,
    "pycharm": {
     "name": "#%%\n"
    }
   }
  },
  {
   "cell_type": "markdown",
   "source": [
    "#### Rozpad feromonu"
   ],
   "metadata": {
    "collapsed": false,
    "pycharm": {
     "name": "#%% md\n"
    }
   }
  },
  {
   "cell_type": "code",
   "execution_count": 40,
   "outputs": [],
   "source": [
    "PHEROMONE_DECAYS = np.arange(0, 1, 0.1)"
   ],
   "metadata": {
    "collapsed": false,
    "pycharm": {
     "name": "#%%\n"
    }
   }
  },
  {
   "cell_type": "code",
   "execution_count": 41,
   "outputs": [],
   "source": [
    "pheromone_decay_results = pd.DataFrame()"
   ],
   "metadata": {
    "collapsed": false,
    "pycharm": {
     "name": "#%%\n"
    }
   }
  },
  {
   "cell_type": "code",
   "execution_count": 42,
   "outputs": [
    {
     "name": "stdout",
     "output_type": "stream",
     "text": [
      "Solving for pheromone_decay=0.0 ...\n",
      "Solved for pheromone_decay=0.0\n",
      "Solving for pheromone_decay=0.1 ...\n",
      "Solved for pheromone_decay=0.1\n",
      "Solving for pheromone_decay=0.2 ...\n",
      "Solved for pheromone_decay=0.2\n",
      "Solving for pheromone_decay=0.30000000000000004 ...\n",
      "Solved for pheromone_decay=0.30000000000000004\n",
      "Solving for pheromone_decay=0.4 ...\n",
      "Solved for pheromone_decay=0.4\n",
      "Solving for pheromone_decay=0.5 ...\n",
      "Solved for pheromone_decay=0.5\n",
      "Solving for pheromone_decay=0.6000000000000001 ...\n",
      "Solved for pheromone_decay=0.6000000000000001\n",
      "Solving for pheromone_decay=0.7000000000000001 ...\n",
      "Solved for pheromone_decay=0.7000000000000001\n",
      "Solving for pheromone_decay=0.8 ...\n",
      "Solved for pheromone_decay=0.8\n",
      "Solving for pheromone_decay=0.9 ...\n",
      "Solved for pheromone_decay=0.9\n"
     ]
    }
   ],
   "source": [
    "for pheromone_decay in PHEROMONE_DECAYS:\n",
    "    times = []\n",
    "    iterations = []\n",
    "    num_failed = 0\n",
    "    print(f\"Solving for pheromone_decay={pheromone_decay} ...\")\n",
    "    for i in range(NUM_RUNS):\n",
    "        solver = ACOSolver(\n",
    "                board_size=9,\n",
    "                board_file=BOARD_PATH,\n",
    "                num_ants=10,\n",
    "                max_iterations=1000,\n",
    "                greediness=0.9,\n",
    "                pheromone_decay=pheromone_decay,\n",
    "                evaporation_rate=0.9,\n",
    "                best_evaporation_rate=0.005\n",
    "                )\n",
    "        is_solved, iterations_needed = solver.solve(logging=False)\n",
    "        times.append(solver.solution_time)\n",
    "        iterations.append(iterations_needed)\n",
    "        if not is_solved:\n",
    "            num_failed += 1\n",
    "    pheromone_decay_results = pd.concat([pheromone_decay_results, pd.DataFrame({\n",
    "            'board_name': BOARD_PATH.split('/')[-1],\n",
    "            'num_ants': 10,\n",
    "            'greediness': 0.9,\n",
    "            'pheromone_decay': pheromone_decay,\n",
    "            'evaporation_rate': 0.9,\n",
    "            'best_evaporation_rate': 0.005,\n",
    "            'time_mean': [np.mean(times)],\n",
    "            'time_std': [np.std(times)],\n",
    "            'time_min': [np.min(times)],\n",
    "            'time_max': [np.max(times)],\n",
    "            'iter_mean': [np.mean(iterations)],\n",
    "            'iter_std': [np.std(iterations)],\n",
    "            'iter_min': [np.min(iterations)],\n",
    "            'iter_max': [np.max(iterations)],\n",
    "            'num_failed': num_failed\n",
    "            })], ignore_index=True, axis=0)\n",
    "    print(f\"Solved for pheromone_decay={pheromone_decay}\")"
   ],
   "metadata": {
    "collapsed": false,
    "pycharm": {
     "name": "#%%\n"
    }
   }
  },
  {
   "cell_type": "code",
   "execution_count": 43,
   "outputs": [
    {
     "data": {
      "text/plain": "       board_name  num_ants  greediness  pheromone_decay  evaporation_rate  \\\n0  aiescargot.txt        10         0.9              0.0               0.9   \n1  aiescargot.txt        10         0.9              0.1               0.9   \n2  aiescargot.txt        10         0.9              0.2               0.9   \n3  aiescargot.txt        10         0.9              0.3               0.9   \n4  aiescargot.txt        10         0.9              0.4               0.9   \n5  aiescargot.txt        10         0.9              0.5               0.9   \n6  aiescargot.txt        10         0.9              0.6               0.9   \n7  aiescargot.txt        10         0.9              0.7               0.9   \n8  aiescargot.txt        10         0.9              0.8               0.9   \n9  aiescargot.txt        10         0.9              0.9               0.9   \n\n   best_evaporation_rate  time_mean  time_std  time_min   time_max  iter_mean  \\\n0                  0.005   1.888324  1.076071  0.153260   3.988068       13.1   \n1                  0.005   3.368526  2.960615  0.142488   8.534049       23.0   \n2                  0.005   3.320472  3.154492  0.140586   8.500517       23.8   \n3                  0.005   2.135761  1.625570  0.139084   6.006802       15.3   \n4                  0.005   1.733730  1.929444  0.277282   5.982350       12.4   \n5                  0.005   2.029172  0.984605  0.414770   3.522196       14.5   \n6                  0.005   3.520295  3.382475  0.138782  10.384519       24.6   \n7                  0.005   3.088865  3.815530  0.285313  12.986056       21.5   \n8                  0.005   1.747526  1.618971  0.148208   6.147941       12.0   \n9                  0.005   2.602651  3.215112  0.140453  11.001779       18.1   \n\n    iter_std  iter_min  iter_max  num_failed  \n0   7.381734         1        27           0  \n1  20.223748         1        58           0  \n2  22.622113         1        61           0  \n3  11.627983         1        43           0  \n4  13.857850         2        43           0  \n5   7.032069         3        25           0  \n6  23.542302         1        72           0  \n7  26.484901         2        90           0  \n8  11.063453         1        42           0  \n9  22.770375         1        78           0  ",
      "text/html": "<div>\n<style scoped>\n    .dataframe tbody tr th:only-of-type {\n        vertical-align: middle;\n    }\n\n    .dataframe tbody tr th {\n        vertical-align: top;\n    }\n\n    .dataframe thead th {\n        text-align: right;\n    }\n</style>\n<table border=\"1\" class=\"dataframe\">\n  <thead>\n    <tr style=\"text-align: right;\">\n      <th></th>\n      <th>board_name</th>\n      <th>num_ants</th>\n      <th>greediness</th>\n      <th>pheromone_decay</th>\n      <th>evaporation_rate</th>\n      <th>best_evaporation_rate</th>\n      <th>time_mean</th>\n      <th>time_std</th>\n      <th>time_min</th>\n      <th>time_max</th>\n      <th>iter_mean</th>\n      <th>iter_std</th>\n      <th>iter_min</th>\n      <th>iter_max</th>\n      <th>num_failed</th>\n    </tr>\n  </thead>\n  <tbody>\n    <tr>\n      <th>0</th>\n      <td>aiescargot.txt</td>\n      <td>10</td>\n      <td>0.9</td>\n      <td>0.0</td>\n      <td>0.9</td>\n      <td>0.005</td>\n      <td>1.888324</td>\n      <td>1.076071</td>\n      <td>0.153260</td>\n      <td>3.988068</td>\n      <td>13.1</td>\n      <td>7.381734</td>\n      <td>1</td>\n      <td>27</td>\n      <td>0</td>\n    </tr>\n    <tr>\n      <th>1</th>\n      <td>aiescargot.txt</td>\n      <td>10</td>\n      <td>0.9</td>\n      <td>0.1</td>\n      <td>0.9</td>\n      <td>0.005</td>\n      <td>3.368526</td>\n      <td>2.960615</td>\n      <td>0.142488</td>\n      <td>8.534049</td>\n      <td>23.0</td>\n      <td>20.223748</td>\n      <td>1</td>\n      <td>58</td>\n      <td>0</td>\n    </tr>\n    <tr>\n      <th>2</th>\n      <td>aiescargot.txt</td>\n      <td>10</td>\n      <td>0.9</td>\n      <td>0.2</td>\n      <td>0.9</td>\n      <td>0.005</td>\n      <td>3.320472</td>\n      <td>3.154492</td>\n      <td>0.140586</td>\n      <td>8.500517</td>\n      <td>23.8</td>\n      <td>22.622113</td>\n      <td>1</td>\n      <td>61</td>\n      <td>0</td>\n    </tr>\n    <tr>\n      <th>3</th>\n      <td>aiescargot.txt</td>\n      <td>10</td>\n      <td>0.9</td>\n      <td>0.3</td>\n      <td>0.9</td>\n      <td>0.005</td>\n      <td>2.135761</td>\n      <td>1.625570</td>\n      <td>0.139084</td>\n      <td>6.006802</td>\n      <td>15.3</td>\n      <td>11.627983</td>\n      <td>1</td>\n      <td>43</td>\n      <td>0</td>\n    </tr>\n    <tr>\n      <th>4</th>\n      <td>aiescargot.txt</td>\n      <td>10</td>\n      <td>0.9</td>\n      <td>0.4</td>\n      <td>0.9</td>\n      <td>0.005</td>\n      <td>1.733730</td>\n      <td>1.929444</td>\n      <td>0.277282</td>\n      <td>5.982350</td>\n      <td>12.4</td>\n      <td>13.857850</td>\n      <td>2</td>\n      <td>43</td>\n      <td>0</td>\n    </tr>\n    <tr>\n      <th>5</th>\n      <td>aiescargot.txt</td>\n      <td>10</td>\n      <td>0.9</td>\n      <td>0.5</td>\n      <td>0.9</td>\n      <td>0.005</td>\n      <td>2.029172</td>\n      <td>0.984605</td>\n      <td>0.414770</td>\n      <td>3.522196</td>\n      <td>14.5</td>\n      <td>7.032069</td>\n      <td>3</td>\n      <td>25</td>\n      <td>0</td>\n    </tr>\n    <tr>\n      <th>6</th>\n      <td>aiescargot.txt</td>\n      <td>10</td>\n      <td>0.9</td>\n      <td>0.6</td>\n      <td>0.9</td>\n      <td>0.005</td>\n      <td>3.520295</td>\n      <td>3.382475</td>\n      <td>0.138782</td>\n      <td>10.384519</td>\n      <td>24.6</td>\n      <td>23.542302</td>\n      <td>1</td>\n      <td>72</td>\n      <td>0</td>\n    </tr>\n    <tr>\n      <th>7</th>\n      <td>aiescargot.txt</td>\n      <td>10</td>\n      <td>0.9</td>\n      <td>0.7</td>\n      <td>0.9</td>\n      <td>0.005</td>\n      <td>3.088865</td>\n      <td>3.815530</td>\n      <td>0.285313</td>\n      <td>12.986056</td>\n      <td>21.5</td>\n      <td>26.484901</td>\n      <td>2</td>\n      <td>90</td>\n      <td>0</td>\n    </tr>\n    <tr>\n      <th>8</th>\n      <td>aiescargot.txt</td>\n      <td>10</td>\n      <td>0.9</td>\n      <td>0.8</td>\n      <td>0.9</td>\n      <td>0.005</td>\n      <td>1.747526</td>\n      <td>1.618971</td>\n      <td>0.148208</td>\n      <td>6.147941</td>\n      <td>12.0</td>\n      <td>11.063453</td>\n      <td>1</td>\n      <td>42</td>\n      <td>0</td>\n    </tr>\n    <tr>\n      <th>9</th>\n      <td>aiescargot.txt</td>\n      <td>10</td>\n      <td>0.9</td>\n      <td>0.9</td>\n      <td>0.9</td>\n      <td>0.005</td>\n      <td>2.602651</td>\n      <td>3.215112</td>\n      <td>0.140453</td>\n      <td>11.001779</td>\n      <td>18.1</td>\n      <td>22.770375</td>\n      <td>1</td>\n      <td>78</td>\n      <td>0</td>\n    </tr>\n  </tbody>\n</table>\n</div>"
     },
     "execution_count": 43,
     "metadata": {},
     "output_type": "execute_result"
    }
   ],
   "source": [
    "pheromone_decay_results"
   ],
   "metadata": {
    "collapsed": false,
    "pycharm": {
     "name": "#%%\n"
    }
   }
  },
  {
   "cell_type": "code",
   "execution_count": 44,
   "outputs": [],
   "source": [
    "pheromone_decay_results.to_csv(path_or_buf='aco_experiment_results/pheromone_decay_results.csv', index=False)"
   ],
   "metadata": {
    "collapsed": false,
    "pycharm": {
     "name": "#%%\n"
    }
   }
  },
  {
   "cell_type": "markdown",
   "source": [
    "#### Parowanie feromonu"
   ],
   "metadata": {
    "collapsed": false,
    "pycharm": {
     "name": "#%% md\n"
    }
   }
  },
  {
   "cell_type": "code",
   "execution_count": 45,
   "outputs": [],
   "source": [
    "EVAPORATION_RATES = np.arange(0, 1, 0.3)"
   ],
   "metadata": {
    "collapsed": false,
    "pycharm": {
     "name": "#%%\n"
    }
   }
  },
  {
   "cell_type": "code",
   "execution_count": 46,
   "outputs": [],
   "source": [
    "evaporation_rates_results = pd.DataFrame()"
   ],
   "metadata": {
    "collapsed": false,
    "pycharm": {
     "name": "#%%\n"
    }
   }
  },
  {
   "cell_type": "code",
   "execution_count": 47,
   "outputs": [
    {
     "name": "stdout",
     "output_type": "stream",
     "text": [
      "Solving for evaporation_rate=0.0 ...\n",
      "Solved for evaporation_rate=0.0\n",
      "Solving for evaporation_rate=0.3 ...\n",
      "Solved for evaporation_rate=0.3\n",
      "Solving for evaporation_rate=0.6 ...\n",
      "Solved for evaporation_rate=0.6\n",
      "Solving for evaporation_rate=0.8999999999999999 ...\n",
      "Solved for evaporation_rate=0.8999999999999999\n"
     ]
    }
   ],
   "source": [
    "for evaporation_rate in EVAPORATION_RATES:\n",
    "    times = []\n",
    "    iterations = []\n",
    "    num_failed = 0\n",
    "    print(f\"Solving for evaporation_rate={evaporation_rate} ...\")\n",
    "    for i in range(NUM_RUNS):\n",
    "        solver = ACOSolver(\n",
    "                board_size=9,\n",
    "                board_file=BOARD_PATH,\n",
    "                num_ants=10,\n",
    "                max_iterations=1000,\n",
    "                greediness=0.9,\n",
    "                pheromone_decay=0.1,\n",
    "                evaporation_rate=evaporation_rate,\n",
    "                best_evaporation_rate=0.005\n",
    "                )\n",
    "        is_solved, iterations_needed = solver.solve(logging=False)\n",
    "        times.append(solver.solution_time)\n",
    "        iterations.append(iterations_needed)\n",
    "        if not is_solved:\n",
    "            num_failed += 1\n",
    "    evaporation_rates_results = pd.concat([evaporation_rates_results, pd.DataFrame({\n",
    "            'board_name': BOARD_PATH.split('/')[-1],\n",
    "            'num_ants': 10,\n",
    "            'greediness': 0.9,\n",
    "            'pheromone_decay': 0.1,\n",
    "            'evaporation_rate': evaporation_rate,\n",
    "            'best_evaporation_rate': 0.005,\n",
    "            'time_mean': [np.mean(times)],\n",
    "            'time_std': [np.std(times)],\n",
    "            'time_min': [np.min(times)],\n",
    "            'time_max': [np.max(times)],\n",
    "            'iter_mean': [np.mean(iterations)],\n",
    "            'iter_std': [np.std(iterations)],\n",
    "            'iter_min': [np.min(iterations)],\n",
    "            'iter_max': [np.max(iterations)],\n",
    "            'num_failed': num_failed\n",
    "            })], ignore_index=True, axis=0)\n",
    "    print(f\"Solved for evaporation_rate={evaporation_rate}\")"
   ],
   "metadata": {
    "collapsed": false,
    "pycharm": {
     "name": "#%%\n"
    }
   }
  },
  {
   "cell_type": "code",
   "execution_count": 48,
   "outputs": [
    {
     "data": {
      "text/plain": "       board_name  num_ants  greediness  pheromone_decay  evaporation_rate  \\\n0  aiescargot.txt        10         0.9              0.1               0.0   \n1  aiescargot.txt        10         0.9              0.1               0.3   \n2  aiescargot.txt        10         0.9              0.1               0.6   \n3  aiescargot.txt        10         0.9              0.1               0.9   \n\n   best_evaporation_rate  time_mean  time_std  time_min  time_max  iter_mean  \\\n0                  0.005   1.720070  1.544157  0.146214  5.980795       11.6   \n1                  0.005   2.225791  1.252997  0.146051  5.030278       15.2   \n2                  0.005   1.535850  1.493690  0.431550  5.443896       10.5   \n3                  0.005   2.334644  2.421216  0.596286  9.316723       15.8   \n\n    iter_std  iter_min  iter_max  num_failed  \n0  10.297573         1        40           0  \n1   8.482924         1        34           0  \n2  10.141499         3        37           0  \n3  16.363374         4        63           0  ",
      "text/html": "<div>\n<style scoped>\n    .dataframe tbody tr th:only-of-type {\n        vertical-align: middle;\n    }\n\n    .dataframe tbody tr th {\n        vertical-align: top;\n    }\n\n    .dataframe thead th {\n        text-align: right;\n    }\n</style>\n<table border=\"1\" class=\"dataframe\">\n  <thead>\n    <tr style=\"text-align: right;\">\n      <th></th>\n      <th>board_name</th>\n      <th>num_ants</th>\n      <th>greediness</th>\n      <th>pheromone_decay</th>\n      <th>evaporation_rate</th>\n      <th>best_evaporation_rate</th>\n      <th>time_mean</th>\n      <th>time_std</th>\n      <th>time_min</th>\n      <th>time_max</th>\n      <th>iter_mean</th>\n      <th>iter_std</th>\n      <th>iter_min</th>\n      <th>iter_max</th>\n      <th>num_failed</th>\n    </tr>\n  </thead>\n  <tbody>\n    <tr>\n      <th>0</th>\n      <td>aiescargot.txt</td>\n      <td>10</td>\n      <td>0.9</td>\n      <td>0.1</td>\n      <td>0.0</td>\n      <td>0.005</td>\n      <td>1.720070</td>\n      <td>1.544157</td>\n      <td>0.146214</td>\n      <td>5.980795</td>\n      <td>11.6</td>\n      <td>10.297573</td>\n      <td>1</td>\n      <td>40</td>\n      <td>0</td>\n    </tr>\n    <tr>\n      <th>1</th>\n      <td>aiescargot.txt</td>\n      <td>10</td>\n      <td>0.9</td>\n      <td>0.1</td>\n      <td>0.3</td>\n      <td>0.005</td>\n      <td>2.225791</td>\n      <td>1.252997</td>\n      <td>0.146051</td>\n      <td>5.030278</td>\n      <td>15.2</td>\n      <td>8.482924</td>\n      <td>1</td>\n      <td>34</td>\n      <td>0</td>\n    </tr>\n    <tr>\n      <th>2</th>\n      <td>aiescargot.txt</td>\n      <td>10</td>\n      <td>0.9</td>\n      <td>0.1</td>\n      <td>0.6</td>\n      <td>0.005</td>\n      <td>1.535850</td>\n      <td>1.493690</td>\n      <td>0.431550</td>\n      <td>5.443896</td>\n      <td>10.5</td>\n      <td>10.141499</td>\n      <td>3</td>\n      <td>37</td>\n      <td>0</td>\n    </tr>\n    <tr>\n      <th>3</th>\n      <td>aiescargot.txt</td>\n      <td>10</td>\n      <td>0.9</td>\n      <td>0.1</td>\n      <td>0.9</td>\n      <td>0.005</td>\n      <td>2.334644</td>\n      <td>2.421216</td>\n      <td>0.596286</td>\n      <td>9.316723</td>\n      <td>15.8</td>\n      <td>16.363374</td>\n      <td>4</td>\n      <td>63</td>\n      <td>0</td>\n    </tr>\n  </tbody>\n</table>\n</div>"
     },
     "execution_count": 48,
     "metadata": {},
     "output_type": "execute_result"
    }
   ],
   "source": [
    "evaporation_rates_results"
   ],
   "metadata": {
    "collapsed": false,
    "pycharm": {
     "name": "#%%\n"
    }
   }
  },
  {
   "cell_type": "code",
   "execution_count": 49,
   "outputs": [],
   "source": [
    "evaporation_rates_results.to_csv(path_or_buf='aco_experiment_results/evaporation_rates_results.csv', index=False)"
   ],
   "metadata": {
    "collapsed": false,
    "pycharm": {
     "name": "#%%\n"
    }
   }
  },
  {
   "cell_type": "markdown",
   "source": [
    "#### Parowanie feromonu najlepszej wartości"
   ],
   "metadata": {
    "collapsed": false,
    "pycharm": {
     "name": "#%% md\n"
    }
   }
  },
  {
   "cell_type": "code",
   "execution_count": 50,
   "outputs": [],
   "source": [
    "BEST_EVAPORATION_RATES = [0.005, 0.05, 0.5]"
   ],
   "metadata": {
    "collapsed": false,
    "pycharm": {
     "name": "#%%\n"
    }
   }
  },
  {
   "cell_type": "code",
   "execution_count": 51,
   "outputs": [],
   "source": [
    "best_evaporation_rates_results = pd.DataFrame()"
   ],
   "metadata": {
    "collapsed": false,
    "pycharm": {
     "name": "#%%\n"
    }
   }
  },
  {
   "cell_type": "code",
   "execution_count": 52,
   "outputs": [
    {
     "name": "stdout",
     "output_type": "stream",
     "text": [
      "Solving for best_evaporation_rate=0.005 ...\n",
      "Solved for best_evaporation_rate=0.005\n",
      "Solving for best_evaporation_rate=0.05 ...\n",
      "Solved for best_evaporation_rate=0.05\n",
      "Solving for best_evaporation_rate=0.5 ...\n",
      "Solved for best_evaporation_rate=0.5\n"
     ]
    }
   ],
   "source": [
    "for best_evaporation_rate in BEST_EVAPORATION_RATES:\n",
    "    times = []\n",
    "    iterations = []\n",
    "    num_failed = 0\n",
    "    print(f\"Solving for best_evaporation_rate={best_evaporation_rate} ...\")\n",
    "    for i in range(NUM_RUNS):\n",
    "        solver = ACOSolver(\n",
    "                board_size=9,\n",
    "                board_file=BOARD_PATH,\n",
    "                num_ants=10,\n",
    "                max_iterations=1000,\n",
    "                greediness=0.9,\n",
    "                pheromone_decay=0.1,\n",
    "                evaporation_rate=0.9,\n",
    "                best_evaporation_rate=best_evaporation_rate\n",
    "                )\n",
    "        is_solved, iterations_needed = solver.solve(logging=False)\n",
    "        times.append(solver.solution_time)\n",
    "        iterations.append(iterations_needed)\n",
    "        if not is_solved:\n",
    "            num_failed += 1\n",
    "    best_evaporation_rates_results = pd.concat([best_evaporation_rates_results, pd.DataFrame({\n",
    "            'board_name': BOARD_PATH.split('/')[-1],\n",
    "            'num_ants': 10,\n",
    "            'greediness': 0.9,\n",
    "            'pheromone_decay': 0.1,\n",
    "            'evaporation_rate': 0.9,\n",
    "            'best_evaporation_rate': best_evaporation_rate,\n",
    "            'time_mean': [np.mean(times)],\n",
    "            'time_std': [np.std(times)],\n",
    "            'time_min': [np.min(times)],\n",
    "            'time_max': [np.max(times)],\n",
    "            'iter_mean': [np.mean(iterations)],\n",
    "            'iter_std': [np.std(iterations)],\n",
    "            'iter_min': [np.min(iterations)],\n",
    "            'iter_max': [np.max(iterations)],\n",
    "            'num_failed': num_failed\n",
    "            })], ignore_index=True, axis=0)\n",
    "    print(f\"Solved for best_evaporation_rate={best_evaporation_rate}\")"
   ],
   "metadata": {
    "collapsed": false,
    "pycharm": {
     "name": "#%%\n"
    }
   }
  },
  {
   "cell_type": "code",
   "execution_count": 53,
   "outputs": [
    {
     "data": {
      "text/plain": "       board_name  num_ants  greediness  pheromone_decay  evaporation_rate  \\\n0  aiescargot.txt        10         0.9              0.1               0.9   \n1  aiescargot.txt        10         0.9              0.1               0.9   \n2  aiescargot.txt        10         0.9              0.1               0.9   \n\n   best_evaporation_rate  time_mean  time_std  time_min   time_max  iter_mean  \\\n0                  0.005   2.794810  3.061385  0.148732  11.148193       18.9   \n1                  0.050   1.617337  1.094035  0.294967   4.084067       11.0   \n2                  0.500   1.768240  1.399263  0.148277   4.723987       12.0   \n\n    iter_std  iter_min  iter_max  num_failed  \n0  20.627409         1        75           0  \n1   7.549834         2        28           0  \n2   9.476286         1        32           0  ",
      "text/html": "<div>\n<style scoped>\n    .dataframe tbody tr th:only-of-type {\n        vertical-align: middle;\n    }\n\n    .dataframe tbody tr th {\n        vertical-align: top;\n    }\n\n    .dataframe thead th {\n        text-align: right;\n    }\n</style>\n<table border=\"1\" class=\"dataframe\">\n  <thead>\n    <tr style=\"text-align: right;\">\n      <th></th>\n      <th>board_name</th>\n      <th>num_ants</th>\n      <th>greediness</th>\n      <th>pheromone_decay</th>\n      <th>evaporation_rate</th>\n      <th>best_evaporation_rate</th>\n      <th>time_mean</th>\n      <th>time_std</th>\n      <th>time_min</th>\n      <th>time_max</th>\n      <th>iter_mean</th>\n      <th>iter_std</th>\n      <th>iter_min</th>\n      <th>iter_max</th>\n      <th>num_failed</th>\n    </tr>\n  </thead>\n  <tbody>\n    <tr>\n      <th>0</th>\n      <td>aiescargot.txt</td>\n      <td>10</td>\n      <td>0.9</td>\n      <td>0.1</td>\n      <td>0.9</td>\n      <td>0.005</td>\n      <td>2.794810</td>\n      <td>3.061385</td>\n      <td>0.148732</td>\n      <td>11.148193</td>\n      <td>18.9</td>\n      <td>20.627409</td>\n      <td>1</td>\n      <td>75</td>\n      <td>0</td>\n    </tr>\n    <tr>\n      <th>1</th>\n      <td>aiescargot.txt</td>\n      <td>10</td>\n      <td>0.9</td>\n      <td>0.1</td>\n      <td>0.9</td>\n      <td>0.050</td>\n      <td>1.617337</td>\n      <td>1.094035</td>\n      <td>0.294967</td>\n      <td>4.084067</td>\n      <td>11.0</td>\n      <td>7.549834</td>\n      <td>2</td>\n      <td>28</td>\n      <td>0</td>\n    </tr>\n    <tr>\n      <th>2</th>\n      <td>aiescargot.txt</td>\n      <td>10</td>\n      <td>0.9</td>\n      <td>0.1</td>\n      <td>0.9</td>\n      <td>0.500</td>\n      <td>1.768240</td>\n      <td>1.399263</td>\n      <td>0.148277</td>\n      <td>4.723987</td>\n      <td>12.0</td>\n      <td>9.476286</td>\n      <td>1</td>\n      <td>32</td>\n      <td>0</td>\n    </tr>\n  </tbody>\n</table>\n</div>"
     },
     "execution_count": 53,
     "metadata": {},
     "output_type": "execute_result"
    }
   ],
   "source": [
    "best_evaporation_rates_results"
   ],
   "metadata": {
    "collapsed": false,
    "pycharm": {
     "name": "#%%\n"
    }
   }
  },
  {
   "cell_type": "code",
   "execution_count": 54,
   "outputs": [],
   "source": [
    "best_evaporation_rates_results.to_csv(path_or_buf='aco_experiment_results/best_evaporation_rates_results.csv', index=False)"
   ],
   "metadata": {
    "collapsed": false,
    "pycharm": {
     "name": "#%%\n"
    }
   }
  },
  {
   "cell_type": "code",
   "execution_count": null,
   "outputs": [],
   "source": [],
   "metadata": {
    "collapsed": false,
    "pycharm": {
     "name": "#%%\n"
    }
   }
  }
 ],
 "metadata": {
  "kernelspec": {
   "display_name": "Python 3",
   "language": "python",
   "name": "python3"
  },
  "language_info": {
   "codemirror_mode": {
    "name": "ipython",
    "version": 2
   },
   "file_extension": ".py",
   "mimetype": "text/x-python",
   "name": "python",
   "nbconvert_exporter": "python",
   "pygments_lexer": "ipython2",
   "version": "2.7.6"
  }
 },
 "nbformat": 4,
 "nbformat_minor": 0
}