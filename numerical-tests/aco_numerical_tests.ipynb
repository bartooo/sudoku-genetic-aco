{
 "cells": [
  {
   "cell_type": "code",
   "execution_count": 9,
   "outputs": [],
   "source": [
    "from src.aco.ACOSolver import ACOSolver\n",
    "import pandas as pd\n",
    "import numpy as np\n",
    "import os\n",
    "%matplotlib inline"
   ],
   "metadata": {
    "collapsed": false,
    "pycharm": {
     "name": "#%%\n"
    }
   }
  },
  {
   "cell_type": "code",
   "execution_count": 10,
   "outputs": [],
   "source": [
    "rng = np.random.default_rng(42)  # Initialise a random number generator"
   ],
   "metadata": {
    "collapsed": false,
    "pycharm": {
     "name": "#%%\n"
    }
   }
  },
  {
   "cell_type": "markdown",
   "source": [
    "## Porównanie czasów rozwiązań\n",
    "Średnie i odchylenia standardowe czasów rozwiązań przykładowych Sudoku"
   ],
   "metadata": {
    "collapsed": false,
    "pycharm": {
     "name": "#%% md\n"
    }
   }
  },
  {
   "cell_type": "code",
   "execution_count": 11,
   "outputs": [],
   "source": [
    "time_results = pd.DataFrame()"
   ],
   "metadata": {
    "collapsed": false,
    "pycharm": {
     "name": "#%%\n"
    }
   }
  },
  {
   "cell_type": "code",
   "execution_count": 12,
   "outputs": [],
   "source": [
    "BOARD_PATHS = [f\"../resources/boards/logic-solvable/{d}/{f}\" for d in os.listdir('../resources/boards/logic-solvable') for f in os.listdir(f\"../resources/boards/logic-solvable/{d}\")]\n",
    "NUM_RUNS = 10"
   ],
   "metadata": {
    "collapsed": false,
    "pycharm": {
     "name": "#%%\n"
    }
   }
  },
  {
   "cell_type": "code",
   "execution_count": 13,
   "outputs": [
    {
     "name": "stdout",
     "output_type": "stream",
     "text": [
      "Solving board2.txt ...\n",
      "Solved board2.txt\n",
      "Solving platiniumblonde.txt ...\n",
      "Solved platiniumblonde.txt\n",
      "Solving aiescargot.txt ...\n",
      "Solved aiescargot.txt\n",
      "Solving board1.txt ...\n",
      "Solved board1.txt\n",
      "Solving coly013.txt ...\n",
      "Solved coly013.txt\n",
      "Solving reddwarf.txt ...\n",
      "Solved reddwarf.txt\n",
      "Solving sabuncu1.txt ...\n",
      "Solved sabuncu1.txt\n",
      "Solving board3.txt ...\n",
      "Solved board3.txt\n",
      "Solving goldennugget.txt ...\n",
      "Solved goldennugget.txt\n",
      "Solving board2.txt ...\n",
      "Solved board2.txt\n",
      "Solving board1.txt ...\n",
      "Solved board1.txt\n",
      "Solving board3.txt ...\n",
      "Solved board3.txt\n",
      "Solving board2.txt ...\n",
      "Solved board2.txt\n",
      "Solving board1.txt ...\n",
      "Solved board1.txt\n",
      "Solving board3.txt ...\n",
      "Solved board3.txt\n"
     ]
    }
   ],
   "source": [
    "for board_path in BOARD_PATHS:\n",
    "    times = []\n",
    "    iterations = []\n",
    "    num_failed = 0\n",
    "    print(f\"Solving {board_path.split('/')[-1]} ...\")\n",
    "    for i in range(NUM_RUNS):\n",
    "        solver = ACOSolver(\n",
    "                random_generator=rng,\n",
    "                board_size=9,\n",
    "                board_file=board_path,\n",
    "                num_ants=10,\n",
    "                max_iterations=1000,\n",
    "                greediness=0.9,\n",
    "                pheromone_decay=0.1,\n",
    "                evaporation_rate=0.9,\n",
    "                best_evaporation_rate=0.005\n",
    "                )\n",
    "        is_solved, all_fixed_values_best, all_pheromones_to_add, all_perc_fixed_cells, all_iterations = solver.solve(logging=False)\n",
    "        times.append(solver.solution_time)\n",
    "        iterations.append(len(all_iterations))\n",
    "        pd.DataFrame({'fixed_values_best': all_fixed_values_best, 'pheromones_to_add': all_pheromones_to_add, 'perc_fixed_cells': all_perc_fixed_cells, 'iterations': all_iterations}).to_csv(path_or_buf=f\"aco_experiment_results/{board_path.split('/')[-2]}_{board_path.split('/')[-1][:-4]}_{i}.csv\", index=False)\n",
    "        if not is_solved:\n",
    "            num_failed += 1\n",
    "    time_results = pd.concat([time_results, pd.DataFrame({\n",
    "            'level': [board_path.split('/')[-2]],\n",
    "            'board_name': [board_path.split('/')[-1]],\n",
    "            'time_mean': [np.mean(times)],\n",
    "            'time_std': [np.std(times)],\n",
    "            'time_min': [np.min(times)],\n",
    "            'time_max': [np.max(times)],\n",
    "            'iter_mean': [np.mean(iterations)],\n",
    "            'iter_std': [np.std(iterations)],\n",
    "            'iter_min': [np.min(iterations)],\n",
    "            'iter_max': [np.max(iterations)],\n",
    "            'num_failed': num_failed\n",
    "            })], ignore_index=True, axis=0)\n",
    "    print(f\"Solved {board_path.split('/')[-1]}\")"
   ],
   "metadata": {
    "collapsed": false,
    "pycharm": {
     "name": "#%%\n"
    }
   }
  },
  {
   "cell_type": "code",
   "execution_count": 14,
   "outputs": [],
   "source": [
    "time_results.to_csv(path_or_buf='aco_experiment_results/time_results.csv', index=False)"
   ],
   "metadata": {
    "collapsed": false,
    "pycharm": {
     "name": "#%%\n"
    }
   }
  },
  {
   "cell_type": "code",
   "execution_count": 15,
   "outputs": [
    {
     "data": {
      "text/plain": "     level           board_name  time_mean   time_std  time_min   time_max  \\\n0     hard           board2.txt   0.008481   0.000450  0.008000   0.009276   \n1     hard  platiniumblonde.txt   8.477262   7.951849  1.333042  25.462935   \n2     hard       aiescargot.txt   2.314367   1.722960  0.149251   6.578951   \n3     hard           board1.txt   0.067960   0.067255  0.007657   0.212707   \n4     hard          coly013.txt  33.675772  32.869071  2.366629  97.637038   \n5     hard         reddwarf.txt  10.223481   7.706293  1.100297  25.522230   \n6     hard         sabuncu1.txt   0.010910   0.009218  0.007677   0.038558   \n7     hard           board3.txt   0.146067   0.039256  0.131733   0.263810   \n8     hard     goldennugget.txt   3.461473   3.135039  0.317836  10.555952   \n9   medium           board2.txt   0.007794   0.000048  0.007715   0.007854   \n10  medium           board1.txt   0.010860   0.009063  0.007768   0.038048   \n11  medium           board3.txt   0.007828   0.000130  0.007730   0.008198   \n12    easy           board2.txt   0.007828   0.000121  0.007731   0.008175   \n13    easy           board1.txt   0.007814   0.000091  0.007700   0.008032   \n14    easy           board3.txt   0.007933   0.000189  0.007735   0.008224   \n\n    iter_mean    iter_std  iter_min  iter_max  num_failed  \n0         1.0    0.000000         1         1           0  \n1        50.5   47.579933         8       152           0  \n2        15.4   11.516944         1        44           0  \n3         1.1    0.300000         1         2           0  \n4       201.9  196.467020        14       577           0  \n5        64.9   49.316225         7       164           0  \n6         1.0    0.000000         1         1           0  \n7         1.1    0.300000         1         2           0  \n8        21.3   19.287561         2        65           0  \n9         1.0    0.000000         1         1           0  \n10        1.0    0.000000         1         1           0  \n11        1.0    0.000000         1         1           0  \n12        1.0    0.000000         1         1           0  \n13        1.0    0.000000         1         1           0  \n14        1.0    0.000000         1         1           0  ",
      "text/html": "<div>\n<style scoped>\n    .dataframe tbody tr th:only-of-type {\n        vertical-align: middle;\n    }\n\n    .dataframe tbody tr th {\n        vertical-align: top;\n    }\n\n    .dataframe thead th {\n        text-align: right;\n    }\n</style>\n<table border=\"1\" class=\"dataframe\">\n  <thead>\n    <tr style=\"text-align: right;\">\n      <th></th>\n      <th>level</th>\n      <th>board_name</th>\n      <th>time_mean</th>\n      <th>time_std</th>\n      <th>time_min</th>\n      <th>time_max</th>\n      <th>iter_mean</th>\n      <th>iter_std</th>\n      <th>iter_min</th>\n      <th>iter_max</th>\n      <th>num_failed</th>\n    </tr>\n  </thead>\n  <tbody>\n    <tr>\n      <th>0</th>\n      <td>hard</td>\n      <td>board2.txt</td>\n      <td>0.008481</td>\n      <td>0.000450</td>\n      <td>0.008000</td>\n      <td>0.009276</td>\n      <td>1.0</td>\n      <td>0.000000</td>\n      <td>1</td>\n      <td>1</td>\n      <td>0</td>\n    </tr>\n    <tr>\n      <th>1</th>\n      <td>hard</td>\n      <td>platiniumblonde.txt</td>\n      <td>8.477262</td>\n      <td>7.951849</td>\n      <td>1.333042</td>\n      <td>25.462935</td>\n      <td>50.5</td>\n      <td>47.579933</td>\n      <td>8</td>\n      <td>152</td>\n      <td>0</td>\n    </tr>\n    <tr>\n      <th>2</th>\n      <td>hard</td>\n      <td>aiescargot.txt</td>\n      <td>2.314367</td>\n      <td>1.722960</td>\n      <td>0.149251</td>\n      <td>6.578951</td>\n      <td>15.4</td>\n      <td>11.516944</td>\n      <td>1</td>\n      <td>44</td>\n      <td>0</td>\n    </tr>\n    <tr>\n      <th>3</th>\n      <td>hard</td>\n      <td>board1.txt</td>\n      <td>0.067960</td>\n      <td>0.067255</td>\n      <td>0.007657</td>\n      <td>0.212707</td>\n      <td>1.1</td>\n      <td>0.300000</td>\n      <td>1</td>\n      <td>2</td>\n      <td>0</td>\n    </tr>\n    <tr>\n      <th>4</th>\n      <td>hard</td>\n      <td>coly013.txt</td>\n      <td>33.675772</td>\n      <td>32.869071</td>\n      <td>2.366629</td>\n      <td>97.637038</td>\n      <td>201.9</td>\n      <td>196.467020</td>\n      <td>14</td>\n      <td>577</td>\n      <td>0</td>\n    </tr>\n    <tr>\n      <th>5</th>\n      <td>hard</td>\n      <td>reddwarf.txt</td>\n      <td>10.223481</td>\n      <td>7.706293</td>\n      <td>1.100297</td>\n      <td>25.522230</td>\n      <td>64.9</td>\n      <td>49.316225</td>\n      <td>7</td>\n      <td>164</td>\n      <td>0</td>\n    </tr>\n    <tr>\n      <th>6</th>\n      <td>hard</td>\n      <td>sabuncu1.txt</td>\n      <td>0.010910</td>\n      <td>0.009218</td>\n      <td>0.007677</td>\n      <td>0.038558</td>\n      <td>1.0</td>\n      <td>0.000000</td>\n      <td>1</td>\n      <td>1</td>\n      <td>0</td>\n    </tr>\n    <tr>\n      <th>7</th>\n      <td>hard</td>\n      <td>board3.txt</td>\n      <td>0.146067</td>\n      <td>0.039256</td>\n      <td>0.131733</td>\n      <td>0.263810</td>\n      <td>1.1</td>\n      <td>0.300000</td>\n      <td>1</td>\n      <td>2</td>\n      <td>0</td>\n    </tr>\n    <tr>\n      <th>8</th>\n      <td>hard</td>\n      <td>goldennugget.txt</td>\n      <td>3.461473</td>\n      <td>3.135039</td>\n      <td>0.317836</td>\n      <td>10.555952</td>\n      <td>21.3</td>\n      <td>19.287561</td>\n      <td>2</td>\n      <td>65</td>\n      <td>0</td>\n    </tr>\n    <tr>\n      <th>9</th>\n      <td>medium</td>\n      <td>board2.txt</td>\n      <td>0.007794</td>\n      <td>0.000048</td>\n      <td>0.007715</td>\n      <td>0.007854</td>\n      <td>1.0</td>\n      <td>0.000000</td>\n      <td>1</td>\n      <td>1</td>\n      <td>0</td>\n    </tr>\n    <tr>\n      <th>10</th>\n      <td>medium</td>\n      <td>board1.txt</td>\n      <td>0.010860</td>\n      <td>0.009063</td>\n      <td>0.007768</td>\n      <td>0.038048</td>\n      <td>1.0</td>\n      <td>0.000000</td>\n      <td>1</td>\n      <td>1</td>\n      <td>0</td>\n    </tr>\n    <tr>\n      <th>11</th>\n      <td>medium</td>\n      <td>board3.txt</td>\n      <td>0.007828</td>\n      <td>0.000130</td>\n      <td>0.007730</td>\n      <td>0.008198</td>\n      <td>1.0</td>\n      <td>0.000000</td>\n      <td>1</td>\n      <td>1</td>\n      <td>0</td>\n    </tr>\n    <tr>\n      <th>12</th>\n      <td>easy</td>\n      <td>board2.txt</td>\n      <td>0.007828</td>\n      <td>0.000121</td>\n      <td>0.007731</td>\n      <td>0.008175</td>\n      <td>1.0</td>\n      <td>0.000000</td>\n      <td>1</td>\n      <td>1</td>\n      <td>0</td>\n    </tr>\n    <tr>\n      <th>13</th>\n      <td>easy</td>\n      <td>board1.txt</td>\n      <td>0.007814</td>\n      <td>0.000091</td>\n      <td>0.007700</td>\n      <td>0.008032</td>\n      <td>1.0</td>\n      <td>0.000000</td>\n      <td>1</td>\n      <td>1</td>\n      <td>0</td>\n    </tr>\n    <tr>\n      <th>14</th>\n      <td>easy</td>\n      <td>board3.txt</td>\n      <td>0.007933</td>\n      <td>0.000189</td>\n      <td>0.007735</td>\n      <td>0.008224</td>\n      <td>1.0</td>\n      <td>0.000000</td>\n      <td>1</td>\n      <td>1</td>\n      <td>0</td>\n    </tr>\n  </tbody>\n</table>\n</div>"
     },
     "execution_count": 15,
     "metadata": {},
     "output_type": "execute_result"
    }
   ],
   "source": [
    "time_results"
   ],
   "metadata": {
    "collapsed": false,
    "pycharm": {
     "name": "#%%\n"
    }
   }
  },
  {
   "cell_type": "markdown",
   "source": [
    "## Porównanie hiperparametrów\n",
    "Dokonam porównania wpływu hiperparametrów na uśrednionych wynikach rozwiązując Sudoku **aiescargot**"
   ],
   "metadata": {
    "collapsed": false,
    "pycharm": {
     "name": "#%% md\n"
    }
   }
  },
  {
   "cell_type": "markdown",
   "source": [
    "#### Liczba mrówek"
   ],
   "metadata": {
    "collapsed": false,
    "pycharm": {
     "name": "#%% md\n"
    }
   }
  },
  {
   "cell_type": "code",
   "execution_count": 16,
   "outputs": [],
   "source": [
    "NUM_ANTS = [1, 5, 10, 20, 50, 100]\n",
    "BOARD_PATH = f\"../resources/boards/logic-solvable/hard/aiescargot.txt\""
   ],
   "metadata": {
    "collapsed": false,
    "pycharm": {
     "name": "#%%\n"
    }
   }
  },
  {
   "cell_type": "code",
   "execution_count": 17,
   "outputs": [],
   "source": [
    "ants_results = pd.DataFrame()"
   ],
   "metadata": {
    "collapsed": false,
    "pycharm": {
     "name": "#%%\n"
    }
   }
  },
  {
   "cell_type": "code",
   "execution_count": 18,
   "outputs": [
    {
     "name": "stdout",
     "output_type": "stream",
     "text": [
      "Solving for 1 ants ...\n",
      "Solved for 1 ants\n",
      "Solving for 5 ants ...\n",
      "Solved for 5 ants\n",
      "Solving for 10 ants ...\n",
      "Solved for 10 ants\n",
      "Solving for 20 ants ...\n",
      "Solved for 20 ants\n",
      "Solving for 50 ants ...\n",
      "Solved for 50 ants\n",
      "Solving for 100 ants ...\n",
      "Solved for 100 ants\n"
     ]
    }
   ],
   "source": [
    "for num_ants in NUM_ANTS:\n",
    "    times = []\n",
    "    iterations = []\n",
    "    num_failed = 0\n",
    "    print(f\"Solving for {num_ants} ants ...\")\n",
    "    for i in range(NUM_RUNS):\n",
    "        solver = ACOSolver(\n",
    "                random_generator=rng,\n",
    "                board_size=9,\n",
    "                board_file=BOARD_PATH,\n",
    "                num_ants=num_ants,\n",
    "                max_iterations=1000,\n",
    "                greediness=0.9,\n",
    "                pheromone_decay=0.1,\n",
    "                evaporation_rate=0.9,\n",
    "                best_evaporation_rate=0.005\n",
    "                )\n",
    "        is_solved, all_fixed_values_best, all_pheromones_to_add, all_perc_fixed_cells, all_iterations = solver.solve(logging=False)\n",
    "        times.append(solver.solution_time)\n",
    "        iterations.append(len(all_iterations))\n",
    "        if not is_solved:\n",
    "            num_failed += 1\n",
    "    ants_results = pd.concat([ants_results, pd.DataFrame({\n",
    "            'board_name': BOARD_PATH.split('/')[-1],\n",
    "            'num_ants': num_ants,\n",
    "            'greediness': 0.9,\n",
    "            'pheromone_decay': 0.1,\n",
    "            'evaporation_rate': 0.9,\n",
    "            'best_evaporation_rate': 0.005,\n",
    "            'time_mean': [np.mean(times)],\n",
    "            'time_std': [np.std(times)],\n",
    "            'time_min': [np.min(times)],\n",
    "            'time_max': [np.max(times)],\n",
    "            'iter_mean': [np.mean(iterations)],\n",
    "            'iter_std': [np.std(iterations)],\n",
    "            'iter_min': [np.min(iterations)],\n",
    "            'iter_max': [np.max(iterations)],\n",
    "            'num_failed': num_failed\n",
    "            })], ignore_index=True, axis=0)\n",
    "    print(f\"Solved for {num_ants} ants\")"
   ],
   "metadata": {
    "collapsed": false,
    "pycharm": {
     "name": "#%%\n"
    }
   }
  },
  {
   "cell_type": "code",
   "execution_count": 45,
   "outputs": [
    {
     "data": {
      "text/plain": "       board_name  num_ants  greediness  pheromone_decay  evaporation_rate  \\\n0  aiescargot.txt         1         0.9              0.1               0.9   \n1  aiescargot.txt         5         0.9              0.1               0.9   \n2  aiescargot.txt        10         0.9              0.1               0.9   \n3  aiescargot.txt        20         0.9              0.1               0.9   \n4  aiescargot.txt        50         0.9              0.1               0.9   \n5  aiescargot.txt       100         0.9              0.1               0.9   \n\n   best_evaporation_rate  time_mean  time_std  time_min   time_max  iter_mean  \\\n0                  0.005   2.050731  1.805188  0.017411   5.198498      127.3   \n1                  0.005   4.044048  3.411204  0.262060   9.957607       51.7   \n2                  0.005   2.681380  2.717643  0.158461   9.206532       17.2   \n3                  0.005   2.404877  2.630617  0.311321   8.607071        7.8   \n4                  0.005   2.237049  1.711936  0.748483   5.415230        2.9   \n5                  0.005   3.438629  3.147667  1.546044  12.363578        2.2   \n\n     iter_std  iter_min  iter_max  num_failed  \n0  112.139244         1       322           0  \n1   43.428217         3       128           0  \n2   17.457377         1        59           0  \n3    8.541663         1        28           0  \n4    2.211334         1         7           0  \n5    2.039608         1         8           0  ",
      "text/html": "<div>\n<style scoped>\n    .dataframe tbody tr th:only-of-type {\n        vertical-align: middle;\n    }\n\n    .dataframe tbody tr th {\n        vertical-align: top;\n    }\n\n    .dataframe thead th {\n        text-align: right;\n    }\n</style>\n<table border=\"1\" class=\"dataframe\">\n  <thead>\n    <tr style=\"text-align: right;\">\n      <th></th>\n      <th>board_name</th>\n      <th>num_ants</th>\n      <th>greediness</th>\n      <th>pheromone_decay</th>\n      <th>evaporation_rate</th>\n      <th>best_evaporation_rate</th>\n      <th>time_mean</th>\n      <th>time_std</th>\n      <th>time_min</th>\n      <th>time_max</th>\n      <th>iter_mean</th>\n      <th>iter_std</th>\n      <th>iter_min</th>\n      <th>iter_max</th>\n      <th>num_failed</th>\n    </tr>\n  </thead>\n  <tbody>\n    <tr>\n      <th>0</th>\n      <td>aiescargot.txt</td>\n      <td>1</td>\n      <td>0.9</td>\n      <td>0.1</td>\n      <td>0.9</td>\n      <td>0.005</td>\n      <td>2.050731</td>\n      <td>1.805188</td>\n      <td>0.017411</td>\n      <td>5.198498</td>\n      <td>127.3</td>\n      <td>112.139244</td>\n      <td>1</td>\n      <td>322</td>\n      <td>0</td>\n    </tr>\n    <tr>\n      <th>1</th>\n      <td>aiescargot.txt</td>\n      <td>5</td>\n      <td>0.9</td>\n      <td>0.1</td>\n      <td>0.9</td>\n      <td>0.005</td>\n      <td>4.044048</td>\n      <td>3.411204</td>\n      <td>0.262060</td>\n      <td>9.957607</td>\n      <td>51.7</td>\n      <td>43.428217</td>\n      <td>3</td>\n      <td>128</td>\n      <td>0</td>\n    </tr>\n    <tr>\n      <th>2</th>\n      <td>aiescargot.txt</td>\n      <td>10</td>\n      <td>0.9</td>\n      <td>0.1</td>\n      <td>0.9</td>\n      <td>0.005</td>\n      <td>2.681380</td>\n      <td>2.717643</td>\n      <td>0.158461</td>\n      <td>9.206532</td>\n      <td>17.2</td>\n      <td>17.457377</td>\n      <td>1</td>\n      <td>59</td>\n      <td>0</td>\n    </tr>\n    <tr>\n      <th>3</th>\n      <td>aiescargot.txt</td>\n      <td>20</td>\n      <td>0.9</td>\n      <td>0.1</td>\n      <td>0.9</td>\n      <td>0.005</td>\n      <td>2.404877</td>\n      <td>2.630617</td>\n      <td>0.311321</td>\n      <td>8.607071</td>\n      <td>7.8</td>\n      <td>8.541663</td>\n      <td>1</td>\n      <td>28</td>\n      <td>0</td>\n    </tr>\n    <tr>\n      <th>4</th>\n      <td>aiescargot.txt</td>\n      <td>50</td>\n      <td>0.9</td>\n      <td>0.1</td>\n      <td>0.9</td>\n      <td>0.005</td>\n      <td>2.237049</td>\n      <td>1.711936</td>\n      <td>0.748483</td>\n      <td>5.415230</td>\n      <td>2.9</td>\n      <td>2.211334</td>\n      <td>1</td>\n      <td>7</td>\n      <td>0</td>\n    </tr>\n    <tr>\n      <th>5</th>\n      <td>aiescargot.txt</td>\n      <td>100</td>\n      <td>0.9</td>\n      <td>0.1</td>\n      <td>0.9</td>\n      <td>0.005</td>\n      <td>3.438629</td>\n      <td>3.147667</td>\n      <td>1.546044</td>\n      <td>12.363578</td>\n      <td>2.2</td>\n      <td>2.039608</td>\n      <td>1</td>\n      <td>8</td>\n      <td>0</td>\n    </tr>\n  </tbody>\n</table>\n</div>"
     },
     "execution_count": 45,
     "metadata": {},
     "output_type": "execute_result"
    }
   ],
   "source": [
    "ants_results"
   ],
   "metadata": {
    "collapsed": false,
    "pycharm": {
     "name": "#%%\n"
    }
   }
  },
  {
   "cell_type": "code",
   "execution_count": 24,
   "outputs": [],
   "source": [
    "ants_results.to_csv(path_or_buf='aco_experiment_results/ants_results.csv', index=False)"
   ],
   "metadata": {
    "collapsed": false,
    "pycharm": {
     "name": "#%%\n"
    }
   }
  },
  {
   "cell_type": "markdown",
   "source": [
    "#### Zachłanność algorytmu"
   ],
   "metadata": {
    "collapsed": false,
    "pycharm": {
     "name": "#%% md\n"
    }
   }
  },
  {
   "cell_type": "code",
   "execution_count": 25,
   "outputs": [],
   "source": [
    "GREEDINESS = np.arange(0, 1, 0.3)"
   ],
   "metadata": {
    "collapsed": false,
    "pycharm": {
     "name": "#%%\n"
    }
   }
  },
  {
   "cell_type": "code",
   "execution_count": 26,
   "outputs": [],
   "source": [
    "greediness_results = pd.DataFrame()"
   ],
   "metadata": {
    "collapsed": false,
    "pycharm": {
     "name": "#%%\n"
    }
   }
  },
  {
   "cell_type": "code",
   "execution_count": 27,
   "outputs": [
    {
     "name": "stdout",
     "output_type": "stream",
     "text": [
      "Solving for greediness=0.0 ...\n",
      "Solved for greediness=0.0\n",
      "Solving for greediness=0.3 ...\n",
      "Solved for greediness=0.3\n",
      "Solving for greediness=0.6 ...\n",
      "Solved for greediness=0.6\n",
      "Solving for greediness=0.8999999999999999 ...\n",
      "Solved for greediness=0.8999999999999999\n"
     ]
    }
   ],
   "source": [
    "for greediness in GREEDINESS:\n",
    "    times = []\n",
    "    iterations = []\n",
    "    num_failed = 0\n",
    "    print(f\"Solving for greediness={greediness} ...\")\n",
    "    for i in range(NUM_RUNS):\n",
    "        solver = ACOSolver(\n",
    "                random_generator=rng,\n",
    "                board_size=9,\n",
    "                board_file=BOARD_PATH,\n",
    "                num_ants=10,\n",
    "                max_iterations=1000,\n",
    "                greediness=greediness,\n",
    "                pheromone_decay=0.1,\n",
    "                evaporation_rate=0.9,\n",
    "                best_evaporation_rate=0.005\n",
    "                )\n",
    "        is_solved, all_fixed_values_best, all_pheromones_to_add, all_perc_fixed_cells, all_iterations = solver.solve(logging=False)\n",
    "        times.append(solver.solution_time)\n",
    "        iterations.append(len(all_iterations))\n",
    "        if not is_solved:\n",
    "            num_failed += 1\n",
    "    greediness_results = pd.concat([greediness_results, pd.DataFrame({\n",
    "            'board_name': BOARD_PATH.split('/')[-1],\n",
    "            'num_ants': 10,\n",
    "            'greediness': greediness,\n",
    "            'pheromone_decay': 0.1,\n",
    "            'evaporation_rate': 0.9,\n",
    "            'best_evaporation_rate': 0.005,\n",
    "            'time_mean': [np.mean(times)],\n",
    "            'time_std': [np.std(times)],\n",
    "            'time_min': [np.min(times)],\n",
    "            'time_max': [np.max(times)],\n",
    "            'iter_mean': [np.mean(iterations)],\n",
    "            'iter_std': [np.std(iterations)],\n",
    "            'iter_min': [np.min(iterations)],\n",
    "            'iter_max': [np.max(iterations)],\n",
    "            'num_failed': num_failed\n",
    "            })], ignore_index=True, axis=0)\n",
    "    print(f\"Solved for greediness={greediness}\")"
   ],
   "metadata": {
    "collapsed": false,
    "pycharm": {
     "name": "#%%\n"
    }
   }
  },
  {
   "cell_type": "code",
   "execution_count": 28,
   "outputs": [
    {
     "data": {
      "text/plain": "       board_name  num_ants  greediness  pheromone_decay  evaporation_rate  \\\n0  aiescargot.txt        10         0.0              0.1               0.9   \n1  aiescargot.txt        10         0.3              0.1               0.9   \n2  aiescargot.txt        10         0.6              0.1               0.9   \n3  aiescargot.txt        10         0.9              0.1               0.9   \n\n   best_evaporation_rate  time_mean  time_std  time_min   time_max  iter_mean  \\\n0                  0.005   6.985897  5.796847  0.499020  17.787166       44.5   \n1                  0.005   4.060330  3.414085  0.296740  11.216275       26.1   \n2                  0.005   5.205240  5.925407  1.486372  22.178687       33.9   \n3                  0.005   1.545381  1.306803  0.157732   3.782525        9.7   \n\n    iter_std  iter_min  iter_max  num_failed  \n0  37.049291         3       114           0  \n1  21.736835         2        71           0  \n2  38.200654        10       143           0  \n3   8.198171         1        24           0  ",
      "text/html": "<div>\n<style scoped>\n    .dataframe tbody tr th:only-of-type {\n        vertical-align: middle;\n    }\n\n    .dataframe tbody tr th {\n        vertical-align: top;\n    }\n\n    .dataframe thead th {\n        text-align: right;\n    }\n</style>\n<table border=\"1\" class=\"dataframe\">\n  <thead>\n    <tr style=\"text-align: right;\">\n      <th></th>\n      <th>board_name</th>\n      <th>num_ants</th>\n      <th>greediness</th>\n      <th>pheromone_decay</th>\n      <th>evaporation_rate</th>\n      <th>best_evaporation_rate</th>\n      <th>time_mean</th>\n      <th>time_std</th>\n      <th>time_min</th>\n      <th>time_max</th>\n      <th>iter_mean</th>\n      <th>iter_std</th>\n      <th>iter_min</th>\n      <th>iter_max</th>\n      <th>num_failed</th>\n    </tr>\n  </thead>\n  <tbody>\n    <tr>\n      <th>0</th>\n      <td>aiescargot.txt</td>\n      <td>10</td>\n      <td>0.0</td>\n      <td>0.1</td>\n      <td>0.9</td>\n      <td>0.005</td>\n      <td>6.985897</td>\n      <td>5.796847</td>\n      <td>0.499020</td>\n      <td>17.787166</td>\n      <td>44.5</td>\n      <td>37.049291</td>\n      <td>3</td>\n      <td>114</td>\n      <td>0</td>\n    </tr>\n    <tr>\n      <th>1</th>\n      <td>aiescargot.txt</td>\n      <td>10</td>\n      <td>0.3</td>\n      <td>0.1</td>\n      <td>0.9</td>\n      <td>0.005</td>\n      <td>4.060330</td>\n      <td>3.414085</td>\n      <td>0.296740</td>\n      <td>11.216275</td>\n      <td>26.1</td>\n      <td>21.736835</td>\n      <td>2</td>\n      <td>71</td>\n      <td>0</td>\n    </tr>\n    <tr>\n      <th>2</th>\n      <td>aiescargot.txt</td>\n      <td>10</td>\n      <td>0.6</td>\n      <td>0.1</td>\n      <td>0.9</td>\n      <td>0.005</td>\n      <td>5.205240</td>\n      <td>5.925407</td>\n      <td>1.486372</td>\n      <td>22.178687</td>\n      <td>33.9</td>\n      <td>38.200654</td>\n      <td>10</td>\n      <td>143</td>\n      <td>0</td>\n    </tr>\n    <tr>\n      <th>3</th>\n      <td>aiescargot.txt</td>\n      <td>10</td>\n      <td>0.9</td>\n      <td>0.1</td>\n      <td>0.9</td>\n      <td>0.005</td>\n      <td>1.545381</td>\n      <td>1.306803</td>\n      <td>0.157732</td>\n      <td>3.782525</td>\n      <td>9.7</td>\n      <td>8.198171</td>\n      <td>1</td>\n      <td>24</td>\n      <td>0</td>\n    </tr>\n  </tbody>\n</table>\n</div>"
     },
     "execution_count": 28,
     "metadata": {},
     "output_type": "execute_result"
    }
   ],
   "source": [
    "greediness_results"
   ],
   "metadata": {
    "collapsed": false,
    "pycharm": {
     "name": "#%%\n"
    }
   }
  },
  {
   "cell_type": "code",
   "execution_count": 29,
   "outputs": [],
   "source": [
    "greediness_results.to_csv(path_or_buf='aco_experiment_results/greediness_results.csv', index=False)"
   ],
   "metadata": {
    "collapsed": false,
    "pycharm": {
     "name": "#%%\n"
    }
   }
  },
  {
   "cell_type": "markdown",
   "source": [
    "#### Rozpad feromonu"
   ],
   "metadata": {
    "collapsed": false,
    "pycharm": {
     "name": "#%% md\n"
    }
   }
  },
  {
   "cell_type": "code",
   "execution_count": 30,
   "outputs": [],
   "source": [
    "PHEROMONE_DECAYS = np.arange(0, 1, 0.1)"
   ],
   "metadata": {
    "collapsed": false,
    "pycharm": {
     "name": "#%%\n"
    }
   }
  },
  {
   "cell_type": "code",
   "execution_count": 31,
   "outputs": [],
   "source": [
    "pheromone_decay_results = pd.DataFrame()"
   ],
   "metadata": {
    "collapsed": false,
    "pycharm": {
     "name": "#%%\n"
    }
   }
  },
  {
   "cell_type": "code",
   "execution_count": 32,
   "outputs": [
    {
     "name": "stdout",
     "output_type": "stream",
     "text": [
      "Solving for pheromone_decay=0.0 ...\n",
      "Solved for pheromone_decay=0.0\n",
      "Solving for pheromone_decay=0.1 ...\n",
      "Solved for pheromone_decay=0.1\n",
      "Solving for pheromone_decay=0.2 ...\n",
      "Solved for pheromone_decay=0.2\n",
      "Solving for pheromone_decay=0.30000000000000004 ...\n",
      "Solved for pheromone_decay=0.30000000000000004\n",
      "Solving for pheromone_decay=0.4 ...\n",
      "Solved for pheromone_decay=0.4\n",
      "Solving for pheromone_decay=0.5 ...\n",
      "Solved for pheromone_decay=0.5\n",
      "Solving for pheromone_decay=0.6000000000000001 ...\n",
      "Solved for pheromone_decay=0.6000000000000001\n",
      "Solving for pheromone_decay=0.7000000000000001 ...\n",
      "Solved for pheromone_decay=0.7000000000000001\n",
      "Solving for pheromone_decay=0.8 ...\n",
      "Solved for pheromone_decay=0.8\n",
      "Solving for pheromone_decay=0.9 ...\n",
      "Solved for pheromone_decay=0.9\n"
     ]
    }
   ],
   "source": [
    "for pheromone_decay in PHEROMONE_DECAYS:\n",
    "    times = []\n",
    "    iterations = []\n",
    "    num_failed = 0\n",
    "    print(f\"Solving for pheromone_decay={pheromone_decay} ...\")\n",
    "    for i in range(NUM_RUNS):\n",
    "        solver = ACOSolver(\n",
    "                random_generator=rng,\n",
    "                board_size=9,\n",
    "                board_file=BOARD_PATH,\n",
    "                num_ants=10,\n",
    "                max_iterations=1000,\n",
    "                greediness=0.9,\n",
    "                pheromone_decay=pheromone_decay,\n",
    "                evaporation_rate=0.9,\n",
    "                best_evaporation_rate=0.005\n",
    "                )\n",
    "        is_solved, all_fixed_values_best, all_pheromones_to_add, all_perc_fixed_cells, all_iterations = solver.solve(logging=False)\n",
    "        times.append(solver.solution_time)\n",
    "        iterations.append(len(all_iterations))\n",
    "        if not is_solved:\n",
    "            num_failed += 1\n",
    "    pheromone_decay_results = pd.concat([pheromone_decay_results, pd.DataFrame({\n",
    "            'board_name': BOARD_PATH.split('/')[-1],\n",
    "            'num_ants': 10,\n",
    "            'greediness': 0.9,\n",
    "            'pheromone_decay': pheromone_decay,\n",
    "            'evaporation_rate': 0.9,\n",
    "            'best_evaporation_rate': 0.005,\n",
    "            'time_mean': [np.mean(times)],\n",
    "            'time_std': [np.std(times)],\n",
    "            'time_min': [np.min(times)],\n",
    "            'time_max': [np.max(times)],\n",
    "            'iter_mean': [np.mean(iterations)],\n",
    "            'iter_std': [np.std(iterations)],\n",
    "            'iter_min': [np.min(iterations)],\n",
    "            'iter_max': [np.max(iterations)],\n",
    "            'num_failed': num_failed\n",
    "            })], ignore_index=True, axis=0)\n",
    "    print(f\"Solved for pheromone_decay={pheromone_decay}\")"
   ],
   "metadata": {
    "collapsed": false,
    "pycharm": {
     "name": "#%%\n"
    }
   }
  },
  {
   "cell_type": "code",
   "execution_count": 33,
   "outputs": [
    {
     "data": {
      "text/plain": "       board_name  num_ants  greediness  pheromone_decay  evaporation_rate  \\\n0  aiescargot.txt        10         0.9              0.0               0.9   \n1  aiescargot.txt        10         0.9              0.1               0.9   \n2  aiescargot.txt        10         0.9              0.2               0.9   \n3  aiescargot.txt        10         0.9              0.3               0.9   \n4  aiescargot.txt        10         0.9              0.4               0.9   \n5  aiescargot.txt        10         0.9              0.5               0.9   \n6  aiescargot.txt        10         0.9              0.6               0.9   \n7  aiescargot.txt        10         0.9              0.7               0.9   \n8  aiescargot.txt        10         0.9              0.8               0.9   \n9  aiescargot.txt        10         0.9              0.9               0.9   \n\n   best_evaporation_rate  time_mean  time_std  time_min   time_max  iter_mean  \\\n0                  0.005   2.025704  2.023980  0.152568   6.458663       12.9   \n1                  0.005   2.220979  1.706489  0.321034   5.534705       14.3   \n2                  0.005   3.314009  2.301883  0.469253   9.043539       21.0   \n3                  0.005   2.021130  1.359616  0.155869   4.271096       12.8   \n4                  0.005   3.746242  4.380820  0.316343  16.037526       24.2   \n5                  0.005   3.063256  2.793300  0.151906   8.199496       20.2   \n6                  0.005   2.663718  1.779609  0.152085   6.293612       17.3   \n7                  0.005   2.561193  2.609209  0.154043   7.244790       16.6   \n8                  0.005   3.685151  3.742093  0.741528  13.544741       24.3   \n9                  0.005   1.679067  1.279884  0.299201   3.792681       11.1   \n\n    iter_std  iter_min  iter_max  num_failed  \n0  12.872063         1        41           0  \n1  11.027692         2        36           0  \n2  14.477569         3        57           0  \n3   8.588364         1        27           0  \n4  27.949240         2       102           0  \n5  18.258149         1        53           0  \n6  11.619380         1        41           0  \n7  16.995293         1        47           0  \n8  24.564405         5        89           0  \n9   8.419620         2        25           0  ",
      "text/html": "<div>\n<style scoped>\n    .dataframe tbody tr th:only-of-type {\n        vertical-align: middle;\n    }\n\n    .dataframe tbody tr th {\n        vertical-align: top;\n    }\n\n    .dataframe thead th {\n        text-align: right;\n    }\n</style>\n<table border=\"1\" class=\"dataframe\">\n  <thead>\n    <tr style=\"text-align: right;\">\n      <th></th>\n      <th>board_name</th>\n      <th>num_ants</th>\n      <th>greediness</th>\n      <th>pheromone_decay</th>\n      <th>evaporation_rate</th>\n      <th>best_evaporation_rate</th>\n      <th>time_mean</th>\n      <th>time_std</th>\n      <th>time_min</th>\n      <th>time_max</th>\n      <th>iter_mean</th>\n      <th>iter_std</th>\n      <th>iter_min</th>\n      <th>iter_max</th>\n      <th>num_failed</th>\n    </tr>\n  </thead>\n  <tbody>\n    <tr>\n      <th>0</th>\n      <td>aiescargot.txt</td>\n      <td>10</td>\n      <td>0.9</td>\n      <td>0.0</td>\n      <td>0.9</td>\n      <td>0.005</td>\n      <td>2.025704</td>\n      <td>2.023980</td>\n      <td>0.152568</td>\n      <td>6.458663</td>\n      <td>12.9</td>\n      <td>12.872063</td>\n      <td>1</td>\n      <td>41</td>\n      <td>0</td>\n    </tr>\n    <tr>\n      <th>1</th>\n      <td>aiescargot.txt</td>\n      <td>10</td>\n      <td>0.9</td>\n      <td>0.1</td>\n      <td>0.9</td>\n      <td>0.005</td>\n      <td>2.220979</td>\n      <td>1.706489</td>\n      <td>0.321034</td>\n      <td>5.534705</td>\n      <td>14.3</td>\n      <td>11.027692</td>\n      <td>2</td>\n      <td>36</td>\n      <td>0</td>\n    </tr>\n    <tr>\n      <th>2</th>\n      <td>aiescargot.txt</td>\n      <td>10</td>\n      <td>0.9</td>\n      <td>0.2</td>\n      <td>0.9</td>\n      <td>0.005</td>\n      <td>3.314009</td>\n      <td>2.301883</td>\n      <td>0.469253</td>\n      <td>9.043539</td>\n      <td>21.0</td>\n      <td>14.477569</td>\n      <td>3</td>\n      <td>57</td>\n      <td>0</td>\n    </tr>\n    <tr>\n      <th>3</th>\n      <td>aiescargot.txt</td>\n      <td>10</td>\n      <td>0.9</td>\n      <td>0.3</td>\n      <td>0.9</td>\n      <td>0.005</td>\n      <td>2.021130</td>\n      <td>1.359616</td>\n      <td>0.155869</td>\n      <td>4.271096</td>\n      <td>12.8</td>\n      <td>8.588364</td>\n      <td>1</td>\n      <td>27</td>\n      <td>0</td>\n    </tr>\n    <tr>\n      <th>4</th>\n      <td>aiescargot.txt</td>\n      <td>10</td>\n      <td>0.9</td>\n      <td>0.4</td>\n      <td>0.9</td>\n      <td>0.005</td>\n      <td>3.746242</td>\n      <td>4.380820</td>\n      <td>0.316343</td>\n      <td>16.037526</td>\n      <td>24.2</td>\n      <td>27.949240</td>\n      <td>2</td>\n      <td>102</td>\n      <td>0</td>\n    </tr>\n    <tr>\n      <th>5</th>\n      <td>aiescargot.txt</td>\n      <td>10</td>\n      <td>0.9</td>\n      <td>0.5</td>\n      <td>0.9</td>\n      <td>0.005</td>\n      <td>3.063256</td>\n      <td>2.793300</td>\n      <td>0.151906</td>\n      <td>8.199496</td>\n      <td>20.2</td>\n      <td>18.258149</td>\n      <td>1</td>\n      <td>53</td>\n      <td>0</td>\n    </tr>\n    <tr>\n      <th>6</th>\n      <td>aiescargot.txt</td>\n      <td>10</td>\n      <td>0.9</td>\n      <td>0.6</td>\n      <td>0.9</td>\n      <td>0.005</td>\n      <td>2.663718</td>\n      <td>1.779609</td>\n      <td>0.152085</td>\n      <td>6.293612</td>\n      <td>17.3</td>\n      <td>11.619380</td>\n      <td>1</td>\n      <td>41</td>\n      <td>0</td>\n    </tr>\n    <tr>\n      <th>7</th>\n      <td>aiescargot.txt</td>\n      <td>10</td>\n      <td>0.9</td>\n      <td>0.7</td>\n      <td>0.9</td>\n      <td>0.005</td>\n      <td>2.561193</td>\n      <td>2.609209</td>\n      <td>0.154043</td>\n      <td>7.244790</td>\n      <td>16.6</td>\n      <td>16.995293</td>\n      <td>1</td>\n      <td>47</td>\n      <td>0</td>\n    </tr>\n    <tr>\n      <th>8</th>\n      <td>aiescargot.txt</td>\n      <td>10</td>\n      <td>0.9</td>\n      <td>0.8</td>\n      <td>0.9</td>\n      <td>0.005</td>\n      <td>3.685151</td>\n      <td>3.742093</td>\n      <td>0.741528</td>\n      <td>13.544741</td>\n      <td>24.3</td>\n      <td>24.564405</td>\n      <td>5</td>\n      <td>89</td>\n      <td>0</td>\n    </tr>\n    <tr>\n      <th>9</th>\n      <td>aiescargot.txt</td>\n      <td>10</td>\n      <td>0.9</td>\n      <td>0.9</td>\n      <td>0.9</td>\n      <td>0.005</td>\n      <td>1.679067</td>\n      <td>1.279884</td>\n      <td>0.299201</td>\n      <td>3.792681</td>\n      <td>11.1</td>\n      <td>8.419620</td>\n      <td>2</td>\n      <td>25</td>\n      <td>0</td>\n    </tr>\n  </tbody>\n</table>\n</div>"
     },
     "execution_count": 33,
     "metadata": {},
     "output_type": "execute_result"
    }
   ],
   "source": [
    "pheromone_decay_results"
   ],
   "metadata": {
    "collapsed": false,
    "pycharm": {
     "name": "#%%\n"
    }
   }
  },
  {
   "cell_type": "code",
   "execution_count": 34,
   "outputs": [],
   "source": [
    "pheromone_decay_results.to_csv(path_or_buf='aco_experiment_results/pheromone_decay_results.csv', index=False)"
   ],
   "metadata": {
    "collapsed": false,
    "pycharm": {
     "name": "#%%\n"
    }
   }
  },
  {
   "cell_type": "markdown",
   "source": [
    "#### Parowanie feromonu"
   ],
   "metadata": {
    "collapsed": false,
    "pycharm": {
     "name": "#%% md\n"
    }
   }
  },
  {
   "cell_type": "code",
   "execution_count": 35,
   "outputs": [],
   "source": [
    "EVAPORATION_RATES = np.arange(0, 1, 0.3)"
   ],
   "metadata": {
    "collapsed": false,
    "pycharm": {
     "name": "#%%\n"
    }
   }
  },
  {
   "cell_type": "code",
   "execution_count": 36,
   "outputs": [],
   "source": [
    "evaporation_rates_results = pd.DataFrame()"
   ],
   "metadata": {
    "collapsed": false,
    "pycharm": {
     "name": "#%%\n"
    }
   }
  },
  {
   "cell_type": "code",
   "execution_count": 37,
   "outputs": [
    {
     "name": "stdout",
     "output_type": "stream",
     "text": [
      "Solving for evaporation_rate=0.0 ...\n",
      "Solved for evaporation_rate=0.0\n",
      "Solving for evaporation_rate=0.3 ...\n",
      "Solved for evaporation_rate=0.3\n",
      "Solving for evaporation_rate=0.6 ...\n",
      "Solved for evaporation_rate=0.6\n",
      "Solving for evaporation_rate=0.8999999999999999 ...\n",
      "Solved for evaporation_rate=0.8999999999999999\n"
     ]
    }
   ],
   "source": [
    "for evaporation_rate in EVAPORATION_RATES:\n",
    "    times = []\n",
    "    iterations = []\n",
    "    num_failed = 0\n",
    "    print(f\"Solving for evaporation_rate={evaporation_rate} ...\")\n",
    "    for i in range(NUM_RUNS):\n",
    "        solver = ACOSolver(\n",
    "                random_generator=rng,\n",
    "                board_size=9,\n",
    "                board_file=BOARD_PATH,\n",
    "                num_ants=10,\n",
    "                max_iterations=1000,\n",
    "                greediness=0.9,\n",
    "                pheromone_decay=0.1,\n",
    "                evaporation_rate=evaporation_rate,\n",
    "                best_evaporation_rate=0.005\n",
    "                )\n",
    "        is_solved, all_fixed_values_best, all_pheromones_to_add, all_perc_fixed_cells, all_iterations = solver.solve(logging=False)\n",
    "        times.append(solver.solution_time)\n",
    "        iterations.append(len(all_iterations))\n",
    "        if not is_solved:\n",
    "            num_failed += 1\n",
    "    evaporation_rates_results = pd.concat([evaporation_rates_results, pd.DataFrame({\n",
    "            'board_name': BOARD_PATH.split('/')[-1],\n",
    "            'num_ants': 10,\n",
    "            'greediness': 0.9,\n",
    "            'pheromone_decay': 0.1,\n",
    "            'evaporation_rate': evaporation_rate,\n",
    "            'best_evaporation_rate': 0.005,\n",
    "            'time_mean': [np.mean(times)],\n",
    "            'time_std': [np.std(times)],\n",
    "            'time_min': [np.min(times)],\n",
    "            'time_max': [np.max(times)],\n",
    "            'iter_mean': [np.mean(iterations)],\n",
    "            'iter_std': [np.std(iterations)],\n",
    "            'iter_min': [np.min(iterations)],\n",
    "            'iter_max': [np.max(iterations)],\n",
    "            'num_failed': num_failed\n",
    "            })], ignore_index=True, axis=0)\n",
    "    print(f\"Solved for evaporation_rate={evaporation_rate}\")"
   ],
   "metadata": {
    "collapsed": false,
    "pycharm": {
     "name": "#%%\n"
    }
   }
  },
  {
   "cell_type": "code",
   "execution_count": 38,
   "outputs": [
    {
     "data": {
      "text/plain": "       board_name  num_ants  greediness  pheromone_decay  evaporation_rate  \\\n0  aiescargot.txt        10         0.9              0.1               0.0   \n1  aiescargot.txt        10         0.9              0.1               0.3   \n2  aiescargot.txt        10         0.9              0.1               0.6   \n3  aiescargot.txt        10         0.9              0.1               0.9   \n\n   best_evaporation_rate  time_mean  time_std  time_min  time_max  iter_mean  \\\n0                  0.005   3.326047  2.612933  0.148124  8.239827       21.8   \n1                  0.005   2.280016  2.654910  0.149190  8.638529       14.9   \n2                  0.005   2.109421  2.063882  0.149051  6.893614       14.1   \n3                  0.005   2.990109  2.748371  0.151246  8.816513       20.0   \n\n    iter_std  iter_min  iter_max  num_failed  \n0  17.209300         1        55           0  \n1  17.529689         1        57           0  \n2  13.758270         1        46           0  \n3  18.395652         1        59           0  ",
      "text/html": "<div>\n<style scoped>\n    .dataframe tbody tr th:only-of-type {\n        vertical-align: middle;\n    }\n\n    .dataframe tbody tr th {\n        vertical-align: top;\n    }\n\n    .dataframe thead th {\n        text-align: right;\n    }\n</style>\n<table border=\"1\" class=\"dataframe\">\n  <thead>\n    <tr style=\"text-align: right;\">\n      <th></th>\n      <th>board_name</th>\n      <th>num_ants</th>\n      <th>greediness</th>\n      <th>pheromone_decay</th>\n      <th>evaporation_rate</th>\n      <th>best_evaporation_rate</th>\n      <th>time_mean</th>\n      <th>time_std</th>\n      <th>time_min</th>\n      <th>time_max</th>\n      <th>iter_mean</th>\n      <th>iter_std</th>\n      <th>iter_min</th>\n      <th>iter_max</th>\n      <th>num_failed</th>\n    </tr>\n  </thead>\n  <tbody>\n    <tr>\n      <th>0</th>\n      <td>aiescargot.txt</td>\n      <td>10</td>\n      <td>0.9</td>\n      <td>0.1</td>\n      <td>0.0</td>\n      <td>0.005</td>\n      <td>3.326047</td>\n      <td>2.612933</td>\n      <td>0.148124</td>\n      <td>8.239827</td>\n      <td>21.8</td>\n      <td>17.209300</td>\n      <td>1</td>\n      <td>55</td>\n      <td>0</td>\n    </tr>\n    <tr>\n      <th>1</th>\n      <td>aiescargot.txt</td>\n      <td>10</td>\n      <td>0.9</td>\n      <td>0.1</td>\n      <td>0.3</td>\n      <td>0.005</td>\n      <td>2.280016</td>\n      <td>2.654910</td>\n      <td>0.149190</td>\n      <td>8.638529</td>\n      <td>14.9</td>\n      <td>17.529689</td>\n      <td>1</td>\n      <td>57</td>\n      <td>0</td>\n    </tr>\n    <tr>\n      <th>2</th>\n      <td>aiescargot.txt</td>\n      <td>10</td>\n      <td>0.9</td>\n      <td>0.1</td>\n      <td>0.6</td>\n      <td>0.005</td>\n      <td>2.109421</td>\n      <td>2.063882</td>\n      <td>0.149051</td>\n      <td>6.893614</td>\n      <td>14.1</td>\n      <td>13.758270</td>\n      <td>1</td>\n      <td>46</td>\n      <td>0</td>\n    </tr>\n    <tr>\n      <th>3</th>\n      <td>aiescargot.txt</td>\n      <td>10</td>\n      <td>0.9</td>\n      <td>0.1</td>\n      <td>0.9</td>\n      <td>0.005</td>\n      <td>2.990109</td>\n      <td>2.748371</td>\n      <td>0.151246</td>\n      <td>8.816513</td>\n      <td>20.0</td>\n      <td>18.395652</td>\n      <td>1</td>\n      <td>59</td>\n      <td>0</td>\n    </tr>\n  </tbody>\n</table>\n</div>"
     },
     "execution_count": 38,
     "metadata": {},
     "output_type": "execute_result"
    }
   ],
   "source": [
    "evaporation_rates_results"
   ],
   "metadata": {
    "collapsed": false,
    "pycharm": {
     "name": "#%%\n"
    }
   }
  },
  {
   "cell_type": "code",
   "execution_count": 39,
   "outputs": [],
   "source": [
    "evaporation_rates_results.to_csv(path_or_buf='aco_experiment_results/evaporation_rates_results.csv', index=False)"
   ],
   "metadata": {
    "collapsed": false,
    "pycharm": {
     "name": "#%%\n"
    }
   }
  },
  {
   "cell_type": "markdown",
   "source": [
    "#### Parowanie feromonu najlepszej wartości"
   ],
   "metadata": {
    "collapsed": false,
    "pycharm": {
     "name": "#%% md\n"
    }
   }
  },
  {
   "cell_type": "code",
   "execution_count": 40,
   "outputs": [],
   "source": [
    "BEST_EVAPORATION_RATES = [0.005, 0.05, 0.5]"
   ],
   "metadata": {
    "collapsed": false,
    "pycharm": {
     "name": "#%%\n"
    }
   }
  },
  {
   "cell_type": "code",
   "execution_count": 41,
   "outputs": [],
   "source": [
    "best_evaporation_rates_results = pd.DataFrame()"
   ],
   "metadata": {
    "collapsed": false,
    "pycharm": {
     "name": "#%%\n"
    }
   }
  },
  {
   "cell_type": "code",
   "execution_count": 42,
   "outputs": [
    {
     "name": "stdout",
     "output_type": "stream",
     "text": [
      "Solving for best_evaporation_rate=0.005 ...\n",
      "Solved for best_evaporation_rate=0.005\n",
      "Solving for best_evaporation_rate=0.05 ...\n",
      "Solved for best_evaporation_rate=0.05\n",
      "Solving for best_evaporation_rate=0.5 ...\n",
      "Solved for best_evaporation_rate=0.5\n"
     ]
    }
   ],
   "source": [
    "for best_evaporation_rate in BEST_EVAPORATION_RATES:\n",
    "    times = []\n",
    "    iterations = []\n",
    "    num_failed = 0\n",
    "    print(f\"Solving for best_evaporation_rate={best_evaporation_rate} ...\")\n",
    "    for i in range(NUM_RUNS):\n",
    "        solver = ACOSolver(\n",
    "                random_generator=rng,\n",
    "                board_size=9,\n",
    "                board_file=BOARD_PATH,\n",
    "                num_ants=10,\n",
    "                max_iterations=1000,\n",
    "                greediness=0.9,\n",
    "                pheromone_decay=0.1,\n",
    "                evaporation_rate=0.9,\n",
    "                best_evaporation_rate=best_evaporation_rate\n",
    "                )\n",
    "        is_solved, all_fixed_values_best, all_pheromones_to_add, all_perc_fixed_cells, all_iterations = solver.solve(logging=False)\n",
    "        times.append(solver.solution_time)\n",
    "        iterations.append(len(all_iterations))\n",
    "        if not is_solved:\n",
    "            num_failed += 1\n",
    "    best_evaporation_rates_results = pd.concat([best_evaporation_rates_results, pd.DataFrame({\n",
    "            'board_name': BOARD_PATH.split('/')[-1],\n",
    "            'num_ants': 10,\n",
    "            'greediness': 0.9,\n",
    "            'pheromone_decay': 0.1,\n",
    "            'evaporation_rate': 0.9,\n",
    "            'best_evaporation_rate': best_evaporation_rate,\n",
    "            'time_mean': [np.mean(times)],\n",
    "            'time_std': [np.std(times)],\n",
    "            'time_min': [np.min(times)],\n",
    "            'time_max': [np.max(times)],\n",
    "            'iter_mean': [np.mean(iterations)],\n",
    "            'iter_std': [np.std(iterations)],\n",
    "            'iter_min': [np.min(iterations)],\n",
    "            'iter_max': [np.max(iterations)],\n",
    "            'num_failed': num_failed\n",
    "            })], ignore_index=True, axis=0)\n",
    "    print(f\"Solved for best_evaporation_rate={best_evaporation_rate}\")"
   ],
   "metadata": {
    "collapsed": false,
    "pycharm": {
     "name": "#%%\n"
    }
   }
  },
  {
   "cell_type": "code",
   "execution_count": 43,
   "outputs": [
    {
     "data": {
      "text/plain": "       board_name  num_ants  greediness  pheromone_decay  evaporation_rate  \\\n0  aiescargot.txt        10         0.9              0.1               0.9   \n1  aiescargot.txt        10         0.9              0.1               0.9   \n2  aiescargot.txt        10         0.9              0.1               0.9   \n\n   best_evaporation_rate  time_mean  time_std  time_min   time_max  iter_mean  \\\n0                  0.005   2.988837  3.100139  0.596346  11.655503       20.0   \n1                  0.050   3.046135  2.864964  0.297130  10.129314       20.4   \n2                  0.500   1.813495  1.935622  0.453726   7.298606       11.9   \n\n    iter_std  iter_min  iter_max  num_failed  \n0  20.750904         4        78           0  \n1  19.215619         2        68           0  \n2  12.723600         3        48           0  ",
      "text/html": "<div>\n<style scoped>\n    .dataframe tbody tr th:only-of-type {\n        vertical-align: middle;\n    }\n\n    .dataframe tbody tr th {\n        vertical-align: top;\n    }\n\n    .dataframe thead th {\n        text-align: right;\n    }\n</style>\n<table border=\"1\" class=\"dataframe\">\n  <thead>\n    <tr style=\"text-align: right;\">\n      <th></th>\n      <th>board_name</th>\n      <th>num_ants</th>\n      <th>greediness</th>\n      <th>pheromone_decay</th>\n      <th>evaporation_rate</th>\n      <th>best_evaporation_rate</th>\n      <th>time_mean</th>\n      <th>time_std</th>\n      <th>time_min</th>\n      <th>time_max</th>\n      <th>iter_mean</th>\n      <th>iter_std</th>\n      <th>iter_min</th>\n      <th>iter_max</th>\n      <th>num_failed</th>\n    </tr>\n  </thead>\n  <tbody>\n    <tr>\n      <th>0</th>\n      <td>aiescargot.txt</td>\n      <td>10</td>\n      <td>0.9</td>\n      <td>0.1</td>\n      <td>0.9</td>\n      <td>0.005</td>\n      <td>2.988837</td>\n      <td>3.100139</td>\n      <td>0.596346</td>\n      <td>11.655503</td>\n      <td>20.0</td>\n      <td>20.750904</td>\n      <td>4</td>\n      <td>78</td>\n      <td>0</td>\n    </tr>\n    <tr>\n      <th>1</th>\n      <td>aiescargot.txt</td>\n      <td>10</td>\n      <td>0.9</td>\n      <td>0.1</td>\n      <td>0.9</td>\n      <td>0.050</td>\n      <td>3.046135</td>\n      <td>2.864964</td>\n      <td>0.297130</td>\n      <td>10.129314</td>\n      <td>20.4</td>\n      <td>19.215619</td>\n      <td>2</td>\n      <td>68</td>\n      <td>0</td>\n    </tr>\n    <tr>\n      <th>2</th>\n      <td>aiescargot.txt</td>\n      <td>10</td>\n      <td>0.9</td>\n      <td>0.1</td>\n      <td>0.9</td>\n      <td>0.500</td>\n      <td>1.813495</td>\n      <td>1.935622</td>\n      <td>0.453726</td>\n      <td>7.298606</td>\n      <td>11.9</td>\n      <td>12.723600</td>\n      <td>3</td>\n      <td>48</td>\n      <td>0</td>\n    </tr>\n  </tbody>\n</table>\n</div>"
     },
     "execution_count": 43,
     "metadata": {},
     "output_type": "execute_result"
    }
   ],
   "source": [
    "best_evaporation_rates_results"
   ],
   "metadata": {
    "collapsed": false,
    "pycharm": {
     "name": "#%%\n"
    }
   }
  },
  {
   "cell_type": "code",
   "execution_count": 44,
   "outputs": [],
   "source": [
    "best_evaporation_rates_results.to_csv(path_or_buf='aco_experiment_results/best_evaporation_rates_results.csv', index=False)"
   ],
   "metadata": {
    "collapsed": false,
    "pycharm": {
     "name": "#%%\n"
    }
   }
  },
  {
   "cell_type": "code",
   "execution_count": null,
   "outputs": [],
   "source": [],
   "metadata": {
    "collapsed": false,
    "pycharm": {
     "name": "#%%\n"
    }
   }
  }
 ],
 "metadata": {
  "kernelspec": {
   "display_name": "Python 3",
   "language": "python",
   "name": "python3"
  },
  "language_info": {
   "codemirror_mode": {
    "name": "ipython",
    "version": 2
   },
   "file_extension": ".py",
   "mimetype": "text/x-python",
   "name": "python",
   "nbconvert_exporter": "python",
   "pygments_lexer": "ipython2",
   "version": "2.7.6"
  }
 },
 "nbformat": 4,
 "nbformat_minor": 0
}