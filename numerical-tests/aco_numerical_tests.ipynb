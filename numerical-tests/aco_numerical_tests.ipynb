{
 "cells": [
  {
   "cell_type": "code",
   "execution_count": 1,
   "outputs": [],
   "source": [
    "from src.aco.ACOSolver import ACOSolver\n",
    "import pandas as pd\n",
    "import numpy as np\n",
    "import os\n",
    "%matplotlib inline"
   ],
   "metadata": {
    "collapsed": false,
    "pycharm": {
     "name": "#%%\n"
    }
   }
  },
  {
   "cell_type": "code",
   "execution_count": 2,
   "outputs": [],
   "source": [
    "rng = np.random.default_rng(42)  # Initialise a random number generator"
   ],
   "metadata": {
    "collapsed": false,
    "pycharm": {
     "name": "#%%\n"
    }
   }
  },
  {
   "cell_type": "markdown",
   "source": [
    "## Porównanie czasów rozwiązań\n",
    "Średnie i odchylenia standardowe czasów rozwiązań przykładowych Sudoku"
   ],
   "metadata": {
    "collapsed": false,
    "pycharm": {
     "name": "#%% md\n"
    }
   }
  },
  {
   "cell_type": "code",
   "execution_count": 3,
   "outputs": [],
   "source": [
    "NUM_RUNS = 10"
   ],
   "metadata": {
    "collapsed": false,
    "pycharm": {
     "name": "#%%\n"
    }
   }
  },
  {
   "cell_type": "code",
   "execution_count": 4,
   "outputs": [],
   "source": [
    "time_results = pd.DataFrame()"
   ],
   "metadata": {
    "collapsed": false,
    "pycharm": {
     "name": "#%%\n"
    }
   }
  },
  {
   "cell_type": "code",
   "execution_count": 5,
   "outputs": [],
   "source": [
    "BOARD_PATHS = [f\"../resources/boards/logic-solvable/{d}/{f}\" for d in os.listdir('../resources/boards/logic-solvable') for f in os.listdir(f\"../resources/boards/logic-solvable/{d}\")]\n"
   ],
   "metadata": {
    "collapsed": false,
    "pycharm": {
     "name": "#%%\n"
    }
   }
  },
  {
   "cell_type": "code",
   "execution_count": 6,
   "outputs": [
    {
     "name": "stdout",
     "output_type": "stream",
     "text": [
      "Solving board2.txt ...\n",
      "Solved board2.txt\n",
      "Solving platiniumblonde.txt ...\n",
      "Solved platiniumblonde.txt\n",
      "Solving aiescargot.txt ...\n",
      "Solved aiescargot.txt\n",
      "Solving board1.txt ...\n",
      "Solved board1.txt\n",
      "Solving coly013.txt ...\n",
      "Solved coly013.txt\n",
      "Solving reddwarf.txt ...\n",
      "Solved reddwarf.txt\n",
      "Solving sabuncu1.txt ...\n",
      "Solved sabuncu1.txt\n",
      "Solving board3.txt ...\n",
      "Solved board3.txt\n",
      "Solving goldennugget.txt ...\n",
      "Solved goldennugget.txt\n",
      "Solving board2.txt ...\n",
      "Solved board2.txt\n",
      "Solving board1.txt ...\n",
      "Solved board1.txt\n",
      "Solving board3.txt ...\n",
      "Solved board3.txt\n",
      "Solving board2.txt ...\n",
      "Solved board2.txt\n",
      "Solving board1.txt ...\n",
      "Solved board1.txt\n",
      "Solving board3.txt ...\n",
      "Solved board3.txt\n"
     ]
    }
   ],
   "source": [
    "for board_path in BOARD_PATHS:\n",
    "    times = []\n",
    "    iterations = []\n",
    "    num_failed = 0\n",
    "    print(f\"Solving {board_path.split('/')[-1]} ...\")\n",
    "    for i in range(NUM_RUNS):\n",
    "        solver = ACOSolver(\n",
    "                random_generator=rng,\n",
    "                board_size=9,\n",
    "                board_file=board_path,\n",
    "                num_ants=10,\n",
    "                max_iterations=1000,\n",
    "                greediness=0.9,\n",
    "                pheromone_decay=0.1,\n",
    "                evaporation_rate=0.9,\n",
    "                best_evaporation_rate=0.005\n",
    "                )\n",
    "        is_solved, all_fixed_values_best, all_pheromones_to_add, all_perc_fixed_cells, all_iterations = solver.solve(logging=False)\n",
    "        times.append(solver.solution_time)\n",
    "        iterations.append(len(all_iterations))\n",
    "        pd.DataFrame({'fixed_values_best': all_fixed_values_best, 'pheromones_to_add': all_pheromones_to_add, 'perc_fixed_cells': all_perc_fixed_cells, 'iterations': all_iterations}).to_csv(path_or_buf=f\"aco_experiment_results/{board_path.split('/')[-2]}_{board_path.split('/')[-1][:-4]}_{i}.csv\", index=False)\n",
    "        if not is_solved:\n",
    "            num_failed += 1\n",
    "    time_results = pd.concat([time_results, pd.DataFrame({\n",
    "            'level': [board_path.split('/')[-2]],\n",
    "            'board_name': [board_path.split('/')[-1]],\n",
    "            'time_mean': [np.mean(times)],\n",
    "            'time_std': [np.std(times)],\n",
    "            'time_min': [np.min(times)],\n",
    "            'time_max': [np.max(times)],\n",
    "            'iter_mean': [np.mean(iterations)],\n",
    "            'iter_std': [np.std(iterations)],\n",
    "            'iter_min': [np.min(iterations)],\n",
    "            'iter_max': [np.max(iterations)],\n",
    "            'num_failed': num_failed\n",
    "            })], ignore_index=True, axis=0)\n",
    "    print(f\"Solved {board_path.split('/')[-1]}\")"
   ],
   "metadata": {
    "collapsed": false,
    "pycharm": {
     "name": "#%%\n"
    }
   }
  },
  {
   "cell_type": "code",
   "execution_count": 7,
   "outputs": [],
   "source": [
    "time_results.to_csv(path_or_buf='aco_experiment_results/time_results.csv', index=False)"
   ],
   "metadata": {
    "collapsed": false,
    "pycharm": {
     "name": "#%%\n"
    }
   }
  },
  {
   "cell_type": "code",
   "execution_count": 8,
   "outputs": [
    {
     "data": {
      "text/plain": "     level           board_name  time_mean   time_std  time_min    time_max  \\\n0     hard           board2.txt   0.008206   0.000384  0.007944    0.009142   \n1     hard  platiniumblonde.txt  11.392835   9.606477  0.901811   30.958899   \n2     hard       aiescargot.txt   2.422455   1.910435  0.289865    6.291389   \n3     hard           board1.txt   0.068225   0.045015  0.007936    0.108428   \n4     hard          coly013.txt  58.260160  28.849048  8.073121  112.798814   \n5     hard         reddwarf.txt   7.617370   6.997312  0.150588   21.908373   \n6     hard         sabuncu1.txt   0.007998   0.000046  0.007914    0.008067   \n7     hard           board3.txt   0.140412   0.037680  0.125938    0.253405   \n8     hard     goldennugget.txt   8.608578   8.630374  0.450451   31.567841   \n9   medium           board2.txt   0.007609   0.000183  0.007517    0.008147   \n10  medium           board1.txt   0.007681   0.000189  0.007554    0.008213   \n11  medium           board3.txt   0.009764   0.006469  0.007520    0.029171   \n12    easy           board2.txt   0.007642   0.000221  0.007527    0.008296   \n13    easy           board1.txt   0.007653   0.000236  0.007509    0.008354   \n14    easy           board3.txt   0.007614   0.000179  0.007456    0.008117   \n\n    iter_mean    iter_std  iter_min  iter_max  num_failed  \n0         1.0    0.000000         1         1           0  \n1        74.0   62.358640         6       202           0  \n2        16.7   13.069430         2        43           0  \n3         1.0    0.000000         1         1           0  \n4       372.8  183.554787        51       720           0  \n5        49.9   45.874721         1       144           0  \n6         1.0    0.000000         1         1           0  \n7         1.1    0.300000         1         2           0  \n8        57.1   57.390679         3       210           0  \n9         1.0    0.000000         1         1           0  \n10        1.0    0.000000         1         1           0  \n11        1.0    0.000000         1         1           0  \n12        1.0    0.000000         1         1           0  \n13        1.0    0.000000         1         1           0  \n14        1.0    0.000000         1         1           0  ",
      "text/html": "<div>\n<style scoped>\n    .dataframe tbody tr th:only-of-type {\n        vertical-align: middle;\n    }\n\n    .dataframe tbody tr th {\n        vertical-align: top;\n    }\n\n    .dataframe thead th {\n        text-align: right;\n    }\n</style>\n<table border=\"1\" class=\"dataframe\">\n  <thead>\n    <tr style=\"text-align: right;\">\n      <th></th>\n      <th>level</th>\n      <th>board_name</th>\n      <th>time_mean</th>\n      <th>time_std</th>\n      <th>time_min</th>\n      <th>time_max</th>\n      <th>iter_mean</th>\n      <th>iter_std</th>\n      <th>iter_min</th>\n      <th>iter_max</th>\n      <th>num_failed</th>\n    </tr>\n  </thead>\n  <tbody>\n    <tr>\n      <th>0</th>\n      <td>hard</td>\n      <td>board2.txt</td>\n      <td>0.008206</td>\n      <td>0.000384</td>\n      <td>0.007944</td>\n      <td>0.009142</td>\n      <td>1.0</td>\n      <td>0.000000</td>\n      <td>1</td>\n      <td>1</td>\n      <td>0</td>\n    </tr>\n    <tr>\n      <th>1</th>\n      <td>hard</td>\n      <td>platiniumblonde.txt</td>\n      <td>11.392835</td>\n      <td>9.606477</td>\n      <td>0.901811</td>\n      <td>30.958899</td>\n      <td>74.0</td>\n      <td>62.358640</td>\n      <td>6</td>\n      <td>202</td>\n      <td>0</td>\n    </tr>\n    <tr>\n      <th>2</th>\n      <td>hard</td>\n      <td>aiescargot.txt</td>\n      <td>2.422455</td>\n      <td>1.910435</td>\n      <td>0.289865</td>\n      <td>6.291389</td>\n      <td>16.7</td>\n      <td>13.069430</td>\n      <td>2</td>\n      <td>43</td>\n      <td>0</td>\n    </tr>\n    <tr>\n      <th>3</th>\n      <td>hard</td>\n      <td>board1.txt</td>\n      <td>0.068225</td>\n      <td>0.045015</td>\n      <td>0.007936</td>\n      <td>0.108428</td>\n      <td>1.0</td>\n      <td>0.000000</td>\n      <td>1</td>\n      <td>1</td>\n      <td>0</td>\n    </tr>\n    <tr>\n      <th>4</th>\n      <td>hard</td>\n      <td>coly013.txt</td>\n      <td>58.260160</td>\n      <td>28.849048</td>\n      <td>8.073121</td>\n      <td>112.798814</td>\n      <td>372.8</td>\n      <td>183.554787</td>\n      <td>51</td>\n      <td>720</td>\n      <td>0</td>\n    </tr>\n    <tr>\n      <th>5</th>\n      <td>hard</td>\n      <td>reddwarf.txt</td>\n      <td>7.617370</td>\n      <td>6.997312</td>\n      <td>0.150588</td>\n      <td>21.908373</td>\n      <td>49.9</td>\n      <td>45.874721</td>\n      <td>1</td>\n      <td>144</td>\n      <td>0</td>\n    </tr>\n    <tr>\n      <th>6</th>\n      <td>hard</td>\n      <td>sabuncu1.txt</td>\n      <td>0.007998</td>\n      <td>0.000046</td>\n      <td>0.007914</td>\n      <td>0.008067</td>\n      <td>1.0</td>\n      <td>0.000000</td>\n      <td>1</td>\n      <td>1</td>\n      <td>0</td>\n    </tr>\n    <tr>\n      <th>7</th>\n      <td>hard</td>\n      <td>board3.txt</td>\n      <td>0.140412</td>\n      <td>0.037680</td>\n      <td>0.125938</td>\n      <td>0.253405</td>\n      <td>1.1</td>\n      <td>0.300000</td>\n      <td>1</td>\n      <td>2</td>\n      <td>0</td>\n    </tr>\n    <tr>\n      <th>8</th>\n      <td>hard</td>\n      <td>goldennugget.txt</td>\n      <td>8.608578</td>\n      <td>8.630374</td>\n      <td>0.450451</td>\n      <td>31.567841</td>\n      <td>57.1</td>\n      <td>57.390679</td>\n      <td>3</td>\n      <td>210</td>\n      <td>0</td>\n    </tr>\n    <tr>\n      <th>9</th>\n      <td>medium</td>\n      <td>board2.txt</td>\n      <td>0.007609</td>\n      <td>0.000183</td>\n      <td>0.007517</td>\n      <td>0.008147</td>\n      <td>1.0</td>\n      <td>0.000000</td>\n      <td>1</td>\n      <td>1</td>\n      <td>0</td>\n    </tr>\n    <tr>\n      <th>10</th>\n      <td>medium</td>\n      <td>board1.txt</td>\n      <td>0.007681</td>\n      <td>0.000189</td>\n      <td>0.007554</td>\n      <td>0.008213</td>\n      <td>1.0</td>\n      <td>0.000000</td>\n      <td>1</td>\n      <td>1</td>\n      <td>0</td>\n    </tr>\n    <tr>\n      <th>11</th>\n      <td>medium</td>\n      <td>board3.txt</td>\n      <td>0.009764</td>\n      <td>0.006469</td>\n      <td>0.007520</td>\n      <td>0.029171</td>\n      <td>1.0</td>\n      <td>0.000000</td>\n      <td>1</td>\n      <td>1</td>\n      <td>0</td>\n    </tr>\n    <tr>\n      <th>12</th>\n      <td>easy</td>\n      <td>board2.txt</td>\n      <td>0.007642</td>\n      <td>0.000221</td>\n      <td>0.007527</td>\n      <td>0.008296</td>\n      <td>1.0</td>\n      <td>0.000000</td>\n      <td>1</td>\n      <td>1</td>\n      <td>0</td>\n    </tr>\n    <tr>\n      <th>13</th>\n      <td>easy</td>\n      <td>board1.txt</td>\n      <td>0.007653</td>\n      <td>0.000236</td>\n      <td>0.007509</td>\n      <td>0.008354</td>\n      <td>1.0</td>\n      <td>0.000000</td>\n      <td>1</td>\n      <td>1</td>\n      <td>0</td>\n    </tr>\n    <tr>\n      <th>14</th>\n      <td>easy</td>\n      <td>board3.txt</td>\n      <td>0.007614</td>\n      <td>0.000179</td>\n      <td>0.007456</td>\n      <td>0.008117</td>\n      <td>1.0</td>\n      <td>0.000000</td>\n      <td>1</td>\n      <td>1</td>\n      <td>0</td>\n    </tr>\n  </tbody>\n</table>\n</div>"
     },
     "execution_count": 8,
     "metadata": {},
     "output_type": "execute_result"
    }
   ],
   "source": [
    "time_results"
   ],
   "metadata": {
    "collapsed": false,
    "pycharm": {
     "name": "#%%\n"
    }
   }
  },
  {
   "cell_type": "markdown",
   "source": [
    "## Porównanie hiperparametrów\n",
    "Dokonam porównania wpływu hiperparametrów na uśrednionych wynikach rozwiązując Sudoku **aiescargot**"
   ],
   "metadata": {
    "collapsed": false,
    "pycharm": {
     "name": "#%% md\n"
    }
   }
  },
  {
   "cell_type": "markdown",
   "source": [
    "#### Liczba mrówek"
   ],
   "metadata": {
    "collapsed": false,
    "pycharm": {
     "name": "#%% md\n"
    }
   }
  },
  {
   "cell_type": "code",
   "execution_count": 9,
   "outputs": [],
   "source": [
    "NUM_ANTS = [1, 5, 10, 20, 50, 100]\n",
    "BOARD_PATH = f\"../resources/boards/logic-solvable/hard/aiescargot.txt\""
   ],
   "metadata": {
    "collapsed": false,
    "pycharm": {
     "name": "#%%\n"
    }
   }
  },
  {
   "cell_type": "code",
   "execution_count": 10,
   "outputs": [],
   "source": [
    "ants_results = pd.DataFrame()"
   ],
   "metadata": {
    "collapsed": false,
    "pycharm": {
     "name": "#%%\n"
    }
   }
  },
  {
   "cell_type": "code",
   "execution_count": 11,
   "outputs": [
    {
     "name": "stdout",
     "output_type": "stream",
     "text": [
      "Solving for 1 ants ...\n",
      "Solved for 1 ants\n",
      "Solving for 5 ants ...\n",
      "Solved for 5 ants\n",
      "Solving for 10 ants ...\n",
      "Solved for 10 ants\n",
      "Solving for 20 ants ...\n",
      "Solved for 20 ants\n",
      "Solving for 50 ants ...\n",
      "Solved for 50 ants\n",
      "Solving for 100 ants ...\n",
      "Solved for 100 ants\n"
     ]
    }
   ],
   "source": [
    "for num_ants in NUM_ANTS:\n",
    "    times = []\n",
    "    iterations = []\n",
    "    num_failed = 0\n",
    "    print(f\"Solving for {num_ants} ants ...\")\n",
    "    for i in range(NUM_RUNS):\n",
    "        solver = ACOSolver(\n",
    "                random_generator=rng,\n",
    "                board_size=9,\n",
    "                board_file=BOARD_PATH,\n",
    "                num_ants=num_ants,\n",
    "                max_iterations=1000,\n",
    "                greediness=0.9,\n",
    "                pheromone_decay=0.1,\n",
    "                evaporation_rate=0.9,\n",
    "                best_evaporation_rate=0.005\n",
    "                )\n",
    "        is_solved, all_fixed_values_best, all_pheromones_to_add, all_perc_fixed_cells, all_iterations = solver.solve(logging=False)\n",
    "        times.append(solver.solution_time)\n",
    "        iterations.append(len(all_iterations))\n",
    "        if not is_solved:\n",
    "            num_failed += 1\n",
    "    ants_results = pd.concat([ants_results, pd.DataFrame({\n",
    "            'board_name': BOARD_PATH.split('/')[-1],\n",
    "            'num_ants': num_ants,\n",
    "            'greediness': 0.9,\n",
    "            'pheromone_decay': 0.1,\n",
    "            'evaporation_rate': 0.9,\n",
    "            'best_evaporation_rate': 0.005,\n",
    "            'time_mean': [np.mean(times)],\n",
    "            'time_std': [np.std(times)],\n",
    "            'time_min': [np.min(times)],\n",
    "            'time_max': [np.max(times)],\n",
    "            'iter_mean': [np.mean(iterations)],\n",
    "            'iter_std': [np.std(iterations)],\n",
    "            'iter_min': [np.min(iterations)],\n",
    "            'iter_max': [np.max(iterations)],\n",
    "            'num_failed': num_failed\n",
    "            })], ignore_index=True, axis=0)\n",
    "    print(f\"Solved for {num_ants} ants\")"
   ],
   "metadata": {
    "collapsed": false,
    "pycharm": {
     "name": "#%%\n"
    }
   }
  },
  {
   "cell_type": "code",
   "execution_count": 12,
   "outputs": [
    {
     "data": {
      "text/plain": "       board_name  num_ants  greediness  pheromone_decay  evaporation_rate  \\\n0  aiescargot.txt         1         0.9              0.1               0.9   \n1  aiescargot.txt         5         0.9              0.1               0.9   \n2  aiescargot.txt        10         0.9              0.1               0.9   \n3  aiescargot.txt        20         0.9              0.1               0.9   \n4  aiescargot.txt        50         0.9              0.1               0.9   \n5  aiescargot.txt       100         0.9              0.1               0.9   \n\n   best_evaporation_rate  time_mean  time_std  time_min   time_max  iter_mean  \\\n0                  0.005   2.802816  3.355229  0.275145  10.587012      193.4   \n1                  0.005   1.574564  1.758114  0.139180   6.605092       21.5   \n2                  0.005   1.779234  1.297786  0.561314   4.661442       12.6   \n3                  0.005   2.214289  1.755973  0.281245   5.086488        7.8   \n4                  0.005   4.327330  2.570515  0.693930   8.651706        6.1   \n5                  0.005   3.941519  2.874999  1.362593  11.267504        2.8   \n\n     iter_std  iter_min  iter_max  num_failed  \n0  233.714013        19       740           0  \n1   23.576471         2        89           0  \n2    9.156419         4        33           0  \n3    6.209670         1        18           0  \n4    3.562303         1        12           0  \n5    2.039608         1         8           0  ",
      "text/html": "<div>\n<style scoped>\n    .dataframe tbody tr th:only-of-type {\n        vertical-align: middle;\n    }\n\n    .dataframe tbody tr th {\n        vertical-align: top;\n    }\n\n    .dataframe thead th {\n        text-align: right;\n    }\n</style>\n<table border=\"1\" class=\"dataframe\">\n  <thead>\n    <tr style=\"text-align: right;\">\n      <th></th>\n      <th>board_name</th>\n      <th>num_ants</th>\n      <th>greediness</th>\n      <th>pheromone_decay</th>\n      <th>evaporation_rate</th>\n      <th>best_evaporation_rate</th>\n      <th>time_mean</th>\n      <th>time_std</th>\n      <th>time_min</th>\n      <th>time_max</th>\n      <th>iter_mean</th>\n      <th>iter_std</th>\n      <th>iter_min</th>\n      <th>iter_max</th>\n      <th>num_failed</th>\n    </tr>\n  </thead>\n  <tbody>\n    <tr>\n      <th>0</th>\n      <td>aiescargot.txt</td>\n      <td>1</td>\n      <td>0.9</td>\n      <td>0.1</td>\n      <td>0.9</td>\n      <td>0.005</td>\n      <td>2.802816</td>\n      <td>3.355229</td>\n      <td>0.275145</td>\n      <td>10.587012</td>\n      <td>193.4</td>\n      <td>233.714013</td>\n      <td>19</td>\n      <td>740</td>\n      <td>0</td>\n    </tr>\n    <tr>\n      <th>1</th>\n      <td>aiescargot.txt</td>\n      <td>5</td>\n      <td>0.9</td>\n      <td>0.1</td>\n      <td>0.9</td>\n      <td>0.005</td>\n      <td>1.574564</td>\n      <td>1.758114</td>\n      <td>0.139180</td>\n      <td>6.605092</td>\n      <td>21.5</td>\n      <td>23.576471</td>\n      <td>2</td>\n      <td>89</td>\n      <td>0</td>\n    </tr>\n    <tr>\n      <th>2</th>\n      <td>aiescargot.txt</td>\n      <td>10</td>\n      <td>0.9</td>\n      <td>0.1</td>\n      <td>0.9</td>\n      <td>0.005</td>\n      <td>1.779234</td>\n      <td>1.297786</td>\n      <td>0.561314</td>\n      <td>4.661442</td>\n      <td>12.6</td>\n      <td>9.156419</td>\n      <td>4</td>\n      <td>33</td>\n      <td>0</td>\n    </tr>\n    <tr>\n      <th>3</th>\n      <td>aiescargot.txt</td>\n      <td>20</td>\n      <td>0.9</td>\n      <td>0.1</td>\n      <td>0.9</td>\n      <td>0.005</td>\n      <td>2.214289</td>\n      <td>1.755973</td>\n      <td>0.281245</td>\n      <td>5.086488</td>\n      <td>7.8</td>\n      <td>6.209670</td>\n      <td>1</td>\n      <td>18</td>\n      <td>0</td>\n    </tr>\n    <tr>\n      <th>4</th>\n      <td>aiescargot.txt</td>\n      <td>50</td>\n      <td>0.9</td>\n      <td>0.1</td>\n      <td>0.9</td>\n      <td>0.005</td>\n      <td>4.327330</td>\n      <td>2.570515</td>\n      <td>0.693930</td>\n      <td>8.651706</td>\n      <td>6.1</td>\n      <td>3.562303</td>\n      <td>1</td>\n      <td>12</td>\n      <td>0</td>\n    </tr>\n    <tr>\n      <th>5</th>\n      <td>aiescargot.txt</td>\n      <td>100</td>\n      <td>0.9</td>\n      <td>0.1</td>\n      <td>0.9</td>\n      <td>0.005</td>\n      <td>3.941519</td>\n      <td>2.874999</td>\n      <td>1.362593</td>\n      <td>11.267504</td>\n      <td>2.8</td>\n      <td>2.039608</td>\n      <td>1</td>\n      <td>8</td>\n      <td>0</td>\n    </tr>\n  </tbody>\n</table>\n</div>"
     },
     "execution_count": 12,
     "metadata": {},
     "output_type": "execute_result"
    }
   ],
   "source": [
    "ants_results"
   ],
   "metadata": {
    "collapsed": false,
    "pycharm": {
     "name": "#%%\n"
    }
   }
  },
  {
   "cell_type": "code",
   "execution_count": 13,
   "outputs": [],
   "source": [
    "ants_results.to_csv(path_or_buf='aco_experiment_results/ants_results.csv', index=False)"
   ],
   "metadata": {
    "collapsed": false,
    "pycharm": {
     "name": "#%%\n"
    }
   }
  },
  {
   "cell_type": "markdown",
   "source": [
    "#### Zachłanność algorytmu"
   ],
   "metadata": {
    "collapsed": false,
    "pycharm": {
     "name": "#%% md\n"
    }
   }
  },
  {
   "cell_type": "code",
   "execution_count": 14,
   "outputs": [],
   "source": [
    "GREEDINESS = [0, 0.2, 0.4, 0.6, 0.8, 1.0]"
   ],
   "metadata": {
    "collapsed": false,
    "pycharm": {
     "name": "#%%\n"
    }
   }
  },
  {
   "cell_type": "code",
   "execution_count": 15,
   "outputs": [],
   "source": [
    "greediness_results = pd.DataFrame()"
   ],
   "metadata": {
    "collapsed": false,
    "pycharm": {
     "name": "#%%\n"
    }
   }
  },
  {
   "cell_type": "code",
   "execution_count": 16,
   "outputs": [
    {
     "name": "stdout",
     "output_type": "stream",
     "text": [
      "Solving for greediness=0 ...\n",
      "Solved for greediness=0\n",
      "Solving for greediness=0.2 ...\n",
      "Solved for greediness=0.2\n",
      "Solving for greediness=0.4 ...\n",
      "Solved for greediness=0.4\n",
      "Solving for greediness=0.6 ...\n",
      "Solved for greediness=0.6\n",
      "Solving for greediness=0.8 ...\n",
      "Solved for greediness=0.8\n",
      "Solving for greediness=1.0 ...\n",
      "Solved for greediness=1.0\n"
     ]
    }
   ],
   "source": [
    "for greediness in GREEDINESS:\n",
    "    times = []\n",
    "    iterations = []\n",
    "    num_failed = 0\n",
    "    print(f\"Solving for greediness={greediness} ...\")\n",
    "    for i in range(NUM_RUNS):\n",
    "        solver = ACOSolver(\n",
    "                random_generator=rng,\n",
    "                board_size=9,\n",
    "                board_file=BOARD_PATH,\n",
    "                num_ants=10,\n",
    "                max_iterations=1000,\n",
    "                greediness=greediness,\n",
    "                pheromone_decay=0.1,\n",
    "                evaporation_rate=0.9,\n",
    "                best_evaporation_rate=0.005\n",
    "                )\n",
    "        is_solved, all_fixed_values_best, all_pheromones_to_add, all_perc_fixed_cells, all_iterations = solver.solve(logging=False)\n",
    "        times.append(solver.solution_time)\n",
    "        iterations.append(len(all_iterations))\n",
    "        if not is_solved:\n",
    "            num_failed += 1\n",
    "    greediness_results = pd.concat([greediness_results, pd.DataFrame({\n",
    "            'board_name': BOARD_PATH.split('/')[-1],\n",
    "            'num_ants': 10,\n",
    "            'greediness': greediness,\n",
    "            'pheromone_decay': 0.1,\n",
    "            'evaporation_rate': 0.9,\n",
    "            'best_evaporation_rate': 0.005,\n",
    "            'time_mean': [np.mean(times)],\n",
    "            'time_std': [np.std(times)],\n",
    "            'time_min': [np.min(times)],\n",
    "            'time_max': [np.max(times)],\n",
    "            'iter_mean': [np.mean(iterations)],\n",
    "            'iter_std': [np.std(iterations)],\n",
    "            'iter_min': [np.min(iterations)],\n",
    "            'iter_max': [np.max(iterations)],\n",
    "            'num_failed': num_failed\n",
    "            })], ignore_index=True, axis=0)\n",
    "    print(f\"Solved for greediness={greediness}\")"
   ],
   "metadata": {
    "collapsed": false,
    "pycharm": {
     "name": "#%%\n"
    }
   }
  },
  {
   "cell_type": "code",
   "execution_count": 17,
   "outputs": [
    {
     "data": {
      "text/plain": "       board_name  num_ants  greediness  pheromone_decay  evaporation_rate  \\\n0  aiescargot.txt        10         0.0              0.1               0.9   \n1  aiescargot.txt        10         0.2              0.1               0.9   \n2  aiescargot.txt        10         0.4              0.1               0.9   \n3  aiescargot.txt        10         0.6              0.1               0.9   \n4  aiescargot.txt        10         0.8              0.1               0.9   \n5  aiescargot.txt        10         1.0              0.1               0.9   \n\n   best_evaporation_rate  time_mean  time_std  time_min   time_max  iter_mean  \\\n0                  0.005   6.512431  7.431533  0.278663  21.840767       44.2   \n1                  0.005   5.197916  4.379149  0.273371  13.080888       36.2   \n2                  0.005   5.810130  6.988419  0.282536  23.140760       40.6   \n3                  0.005   1.456209  1.243279  0.279592   4.547432       10.2   \n4                  0.005   2.565303  1.748344  0.421815   4.965889       17.9   \n5                  0.005   1.818015  1.613379  0.137778   5.312455       13.0   \n\n    iter_std  iter_min  iter_max  num_failed  \n0  49.961585         2       145           0  \n1  30.386839         2        92           0  \n2  48.197925         2       159           0  \n3   8.749857         2        32           0  \n4  12.144546         3        34           0  \n5  11.523888         1        38           0  ",
      "text/html": "<div>\n<style scoped>\n    .dataframe tbody tr th:only-of-type {\n        vertical-align: middle;\n    }\n\n    .dataframe tbody tr th {\n        vertical-align: top;\n    }\n\n    .dataframe thead th {\n        text-align: right;\n    }\n</style>\n<table border=\"1\" class=\"dataframe\">\n  <thead>\n    <tr style=\"text-align: right;\">\n      <th></th>\n      <th>board_name</th>\n      <th>num_ants</th>\n      <th>greediness</th>\n      <th>pheromone_decay</th>\n      <th>evaporation_rate</th>\n      <th>best_evaporation_rate</th>\n      <th>time_mean</th>\n      <th>time_std</th>\n      <th>time_min</th>\n      <th>time_max</th>\n      <th>iter_mean</th>\n      <th>iter_std</th>\n      <th>iter_min</th>\n      <th>iter_max</th>\n      <th>num_failed</th>\n    </tr>\n  </thead>\n  <tbody>\n    <tr>\n      <th>0</th>\n      <td>aiescargot.txt</td>\n      <td>10</td>\n      <td>0.0</td>\n      <td>0.1</td>\n      <td>0.9</td>\n      <td>0.005</td>\n      <td>6.512431</td>\n      <td>7.431533</td>\n      <td>0.278663</td>\n      <td>21.840767</td>\n      <td>44.2</td>\n      <td>49.961585</td>\n      <td>2</td>\n      <td>145</td>\n      <td>0</td>\n    </tr>\n    <tr>\n      <th>1</th>\n      <td>aiescargot.txt</td>\n      <td>10</td>\n      <td>0.2</td>\n      <td>0.1</td>\n      <td>0.9</td>\n      <td>0.005</td>\n      <td>5.197916</td>\n      <td>4.379149</td>\n      <td>0.273371</td>\n      <td>13.080888</td>\n      <td>36.2</td>\n      <td>30.386839</td>\n      <td>2</td>\n      <td>92</td>\n      <td>0</td>\n    </tr>\n    <tr>\n      <th>2</th>\n      <td>aiescargot.txt</td>\n      <td>10</td>\n      <td>0.4</td>\n      <td>0.1</td>\n      <td>0.9</td>\n      <td>0.005</td>\n      <td>5.810130</td>\n      <td>6.988419</td>\n      <td>0.282536</td>\n      <td>23.140760</td>\n      <td>40.6</td>\n      <td>48.197925</td>\n      <td>2</td>\n      <td>159</td>\n      <td>0</td>\n    </tr>\n    <tr>\n      <th>3</th>\n      <td>aiescargot.txt</td>\n      <td>10</td>\n      <td>0.6</td>\n      <td>0.1</td>\n      <td>0.9</td>\n      <td>0.005</td>\n      <td>1.456209</td>\n      <td>1.243279</td>\n      <td>0.279592</td>\n      <td>4.547432</td>\n      <td>10.2</td>\n      <td>8.749857</td>\n      <td>2</td>\n      <td>32</td>\n      <td>0</td>\n    </tr>\n    <tr>\n      <th>4</th>\n      <td>aiescargot.txt</td>\n      <td>10</td>\n      <td>0.8</td>\n      <td>0.1</td>\n      <td>0.9</td>\n      <td>0.005</td>\n      <td>2.565303</td>\n      <td>1.748344</td>\n      <td>0.421815</td>\n      <td>4.965889</td>\n      <td>17.9</td>\n      <td>12.144546</td>\n      <td>3</td>\n      <td>34</td>\n      <td>0</td>\n    </tr>\n    <tr>\n      <th>5</th>\n      <td>aiescargot.txt</td>\n      <td>10</td>\n      <td>1.0</td>\n      <td>0.1</td>\n      <td>0.9</td>\n      <td>0.005</td>\n      <td>1.818015</td>\n      <td>1.613379</td>\n      <td>0.137778</td>\n      <td>5.312455</td>\n      <td>13.0</td>\n      <td>11.523888</td>\n      <td>1</td>\n      <td>38</td>\n      <td>0</td>\n    </tr>\n  </tbody>\n</table>\n</div>"
     },
     "execution_count": 17,
     "metadata": {},
     "output_type": "execute_result"
    }
   ],
   "source": [
    "greediness_results"
   ],
   "metadata": {
    "collapsed": false,
    "pycharm": {
     "name": "#%%\n"
    }
   }
  },
  {
   "cell_type": "code",
   "execution_count": 18,
   "outputs": [],
   "source": [
    "greediness_results.to_csv(path_or_buf='aco_experiment_results/greediness_results.csv', index=False)"
   ],
   "metadata": {
    "collapsed": false,
    "pycharm": {
     "name": "#%%\n"
    }
   }
  },
  {
   "cell_type": "markdown",
   "source": [
    "#### Rozpad feromonu"
   ],
   "metadata": {
    "collapsed": false,
    "pycharm": {
     "name": "#%% md\n"
    }
   }
  },
  {
   "cell_type": "code",
   "execution_count": 19,
   "outputs": [],
   "source": [
    "PHEROMONE_DECAYS = [0, 0.2, 0.4, 0.6, 0.8, 1.0]"
   ],
   "metadata": {
    "collapsed": false,
    "pycharm": {
     "name": "#%%\n"
    }
   }
  },
  {
   "cell_type": "code",
   "execution_count": 20,
   "outputs": [],
   "source": [
    "pheromone_decay_results = pd.DataFrame()"
   ],
   "metadata": {
    "collapsed": false,
    "pycharm": {
     "name": "#%%\n"
    }
   }
  },
  {
   "cell_type": "code",
   "execution_count": 21,
   "outputs": [
    {
     "name": "stdout",
     "output_type": "stream",
     "text": [
      "Solving for pheromone_decay=0 ...\n",
      "Solved for pheromone_decay=0\n",
      "Solving for pheromone_decay=0.2 ...\n",
      "Solved for pheromone_decay=0.2\n",
      "Solving for pheromone_decay=0.4 ...\n",
      "Solved for pheromone_decay=0.4\n",
      "Solving for pheromone_decay=0.6 ...\n",
      "Solved for pheromone_decay=0.6\n",
      "Solving for pheromone_decay=0.8 ...\n",
      "Solved for pheromone_decay=0.8\n",
      "Solving for pheromone_decay=1.0 ...\n",
      "Solved for pheromone_decay=1.0\n"
     ]
    }
   ],
   "source": [
    "for pheromone_decay in PHEROMONE_DECAYS:\n",
    "    times = []\n",
    "    iterations = []\n",
    "    num_failed = 0\n",
    "    print(f\"Solving for pheromone_decay={pheromone_decay} ...\")\n",
    "    for i in range(NUM_RUNS):\n",
    "        solver = ACOSolver(\n",
    "                random_generator=rng,\n",
    "                board_size=9,\n",
    "                board_file=BOARD_PATH,\n",
    "                num_ants=10,\n",
    "                max_iterations=1000,\n",
    "                greediness=0.9,\n",
    "                pheromone_decay=pheromone_decay,\n",
    "                evaporation_rate=0.9,\n",
    "                best_evaporation_rate=0.005\n",
    "                )\n",
    "        is_solved, all_fixed_values_best, all_pheromones_to_add, all_perc_fixed_cells, all_iterations = solver.solve(logging=False)\n",
    "        times.append(solver.solution_time)\n",
    "        iterations.append(len(all_iterations))\n",
    "        if not is_solved:\n",
    "            num_failed += 1\n",
    "    pheromone_decay_results = pd.concat([pheromone_decay_results, pd.DataFrame({\n",
    "            'board_name': BOARD_PATH.split('/')[-1],\n",
    "            'num_ants': 10,\n",
    "            'greediness': 0.9,\n",
    "            'pheromone_decay': pheromone_decay,\n",
    "            'evaporation_rate': 0.9,\n",
    "            'best_evaporation_rate': 0.005,\n",
    "            'time_mean': [np.mean(times)],\n",
    "            'time_std': [np.std(times)],\n",
    "            'time_min': [np.min(times)],\n",
    "            'time_max': [np.max(times)],\n",
    "            'iter_mean': [np.mean(iterations)],\n",
    "            'iter_std': [np.std(iterations)],\n",
    "            'iter_min': [np.min(iterations)],\n",
    "            'iter_max': [np.max(iterations)],\n",
    "            'num_failed': num_failed\n",
    "            })], ignore_index=True, axis=0)\n",
    "    print(f\"Solved for pheromone_decay={pheromone_decay}\")"
   ],
   "metadata": {
    "collapsed": false,
    "pycharm": {
     "name": "#%%\n"
    }
   }
  },
  {
   "cell_type": "code",
   "execution_count": 22,
   "outputs": [
    {
     "data": {
      "text/plain": "       board_name  num_ants  greediness  pheromone_decay  evaporation_rate  \\\n0  aiescargot.txt        10         0.9              0.0               0.9   \n1  aiescargot.txt        10         0.9              0.2               0.9   \n2  aiescargot.txt        10         0.9              0.4               0.9   \n3  aiescargot.txt        10         0.9              0.6               0.9   \n4  aiescargot.txt        10         0.9              0.8               0.9   \n5  aiescargot.txt        10         0.9              1.0               0.9   \n\n   best_evaporation_rate  time_mean  time_std  time_min  time_max  iter_mean  \\\n0                  0.005   2.280355  2.213385  0.292112  7.802432       15.9   \n1                  0.005   1.325873  1.666409  0.145116  5.728878        9.3   \n2                  0.005   2.928828  2.071420  0.315489  6.235695       20.4   \n3                  0.005   2.376467  1.870331  0.288360  5.986154       16.3   \n4                  0.005   2.350599  2.762634  0.291231  9.003755       16.1   \n5                  0.005   2.614125  2.287760  0.717631  7.965738       18.2   \n\n    iter_std  iter_min  iter_max  num_failed  \n0  15.636176         2        55           0  \n1  11.883181         1        41           0  \n2  14.381933         2        43           0  \n3  12.798828         2        41           0  \n4  18.986574         2        62           0  \n5  15.746746         5        54           0  ",
      "text/html": "<div>\n<style scoped>\n    .dataframe tbody tr th:only-of-type {\n        vertical-align: middle;\n    }\n\n    .dataframe tbody tr th {\n        vertical-align: top;\n    }\n\n    .dataframe thead th {\n        text-align: right;\n    }\n</style>\n<table border=\"1\" class=\"dataframe\">\n  <thead>\n    <tr style=\"text-align: right;\">\n      <th></th>\n      <th>board_name</th>\n      <th>num_ants</th>\n      <th>greediness</th>\n      <th>pheromone_decay</th>\n      <th>evaporation_rate</th>\n      <th>best_evaporation_rate</th>\n      <th>time_mean</th>\n      <th>time_std</th>\n      <th>time_min</th>\n      <th>time_max</th>\n      <th>iter_mean</th>\n      <th>iter_std</th>\n      <th>iter_min</th>\n      <th>iter_max</th>\n      <th>num_failed</th>\n    </tr>\n  </thead>\n  <tbody>\n    <tr>\n      <th>0</th>\n      <td>aiescargot.txt</td>\n      <td>10</td>\n      <td>0.9</td>\n      <td>0.0</td>\n      <td>0.9</td>\n      <td>0.005</td>\n      <td>2.280355</td>\n      <td>2.213385</td>\n      <td>0.292112</td>\n      <td>7.802432</td>\n      <td>15.9</td>\n      <td>15.636176</td>\n      <td>2</td>\n      <td>55</td>\n      <td>0</td>\n    </tr>\n    <tr>\n      <th>1</th>\n      <td>aiescargot.txt</td>\n      <td>10</td>\n      <td>0.9</td>\n      <td>0.2</td>\n      <td>0.9</td>\n      <td>0.005</td>\n      <td>1.325873</td>\n      <td>1.666409</td>\n      <td>0.145116</td>\n      <td>5.728878</td>\n      <td>9.3</td>\n      <td>11.883181</td>\n      <td>1</td>\n      <td>41</td>\n      <td>0</td>\n    </tr>\n    <tr>\n      <th>2</th>\n      <td>aiescargot.txt</td>\n      <td>10</td>\n      <td>0.9</td>\n      <td>0.4</td>\n      <td>0.9</td>\n      <td>0.005</td>\n      <td>2.928828</td>\n      <td>2.071420</td>\n      <td>0.315489</td>\n      <td>6.235695</td>\n      <td>20.4</td>\n      <td>14.381933</td>\n      <td>2</td>\n      <td>43</td>\n      <td>0</td>\n    </tr>\n    <tr>\n      <th>3</th>\n      <td>aiescargot.txt</td>\n      <td>10</td>\n      <td>0.9</td>\n      <td>0.6</td>\n      <td>0.9</td>\n      <td>0.005</td>\n      <td>2.376467</td>\n      <td>1.870331</td>\n      <td>0.288360</td>\n      <td>5.986154</td>\n      <td>16.3</td>\n      <td>12.798828</td>\n      <td>2</td>\n      <td>41</td>\n      <td>0</td>\n    </tr>\n    <tr>\n      <th>4</th>\n      <td>aiescargot.txt</td>\n      <td>10</td>\n      <td>0.9</td>\n      <td>0.8</td>\n      <td>0.9</td>\n      <td>0.005</td>\n      <td>2.350599</td>\n      <td>2.762634</td>\n      <td>0.291231</td>\n      <td>9.003755</td>\n      <td>16.1</td>\n      <td>18.986574</td>\n      <td>2</td>\n      <td>62</td>\n      <td>0</td>\n    </tr>\n    <tr>\n      <th>5</th>\n      <td>aiescargot.txt</td>\n      <td>10</td>\n      <td>0.9</td>\n      <td>1.0</td>\n      <td>0.9</td>\n      <td>0.005</td>\n      <td>2.614125</td>\n      <td>2.287760</td>\n      <td>0.717631</td>\n      <td>7.965738</td>\n      <td>18.2</td>\n      <td>15.746746</td>\n      <td>5</td>\n      <td>54</td>\n      <td>0</td>\n    </tr>\n  </tbody>\n</table>\n</div>"
     },
     "execution_count": 22,
     "metadata": {},
     "output_type": "execute_result"
    }
   ],
   "source": [
    "pheromone_decay_results"
   ],
   "metadata": {
    "collapsed": false,
    "pycharm": {
     "name": "#%%\n"
    }
   }
  },
  {
   "cell_type": "code",
   "execution_count": 23,
   "outputs": [],
   "source": [
    "pheromone_decay_results.to_csv(path_or_buf='aco_experiment_results/pheromone_decay_results.csv', index=False)"
   ],
   "metadata": {
    "collapsed": false,
    "pycharm": {
     "name": "#%%\n"
    }
   }
  },
  {
   "cell_type": "markdown",
   "source": [
    "#### Parowanie feromonu"
   ],
   "metadata": {
    "collapsed": false,
    "pycharm": {
     "name": "#%% md\n"
    }
   }
  },
  {
   "cell_type": "code",
   "execution_count": 24,
   "outputs": [],
   "source": [
    "EVAPORATION_RATES = [0, 0.2, 0.4, 0.6, 0.8, 1.0]"
   ],
   "metadata": {
    "collapsed": false,
    "pycharm": {
     "name": "#%%\n"
    }
   }
  },
  {
   "cell_type": "code",
   "execution_count": 25,
   "outputs": [],
   "source": [
    "evaporation_rates_results = pd.DataFrame()"
   ],
   "metadata": {
    "collapsed": false,
    "pycharm": {
     "name": "#%%\n"
    }
   }
  },
  {
   "cell_type": "code",
   "execution_count": 26,
   "outputs": [
    {
     "name": "stdout",
     "output_type": "stream",
     "text": [
      "Solving for evaporation_rate=0 ...\n",
      "Solved for evaporation_rate=0\n",
      "Solving for evaporation_rate=0.2 ...\n",
      "Solved for evaporation_rate=0.2\n",
      "Solving for evaporation_rate=0.4 ...\n",
      "Solved for evaporation_rate=0.4\n",
      "Solving for evaporation_rate=0.6 ...\n",
      "Solved for evaporation_rate=0.6\n",
      "Solving for evaporation_rate=0.8 ...\n",
      "Solved for evaporation_rate=0.8\n",
      "Solving for evaporation_rate=1.0 ...\n",
      "Solved for evaporation_rate=1.0\n"
     ]
    }
   ],
   "source": [
    "for evaporation_rate in EVAPORATION_RATES:\n",
    "    times = []\n",
    "    iterations = []\n",
    "    num_failed = 0\n",
    "    print(f\"Solving for evaporation_rate={evaporation_rate} ...\")\n",
    "    for i in range(NUM_RUNS):\n",
    "        solver = ACOSolver(\n",
    "                random_generator=rng,\n",
    "                board_size=9,\n",
    "                board_file=BOARD_PATH,\n",
    "                num_ants=10,\n",
    "                max_iterations=1000,\n",
    "                greediness=0.9,\n",
    "                pheromone_decay=0.1,\n",
    "                evaporation_rate=evaporation_rate,\n",
    "                best_evaporation_rate=0.005\n",
    "                )\n",
    "        is_solved, all_fixed_values_best, all_pheromones_to_add, all_perc_fixed_cells, all_iterations = solver.solve(logging=False)\n",
    "        times.append(solver.solution_time)\n",
    "        iterations.append(len(all_iterations))\n",
    "        if not is_solved:\n",
    "            num_failed += 1\n",
    "    evaporation_rates_results = pd.concat([evaporation_rates_results, pd.DataFrame({\n",
    "            'board_name': BOARD_PATH.split('/')[-1],\n",
    "            'num_ants': 10,\n",
    "            'greediness': 0.9,\n",
    "            'pheromone_decay': 0.1,\n",
    "            'evaporation_rate': evaporation_rate,\n",
    "            'best_evaporation_rate': 0.005,\n",
    "            'time_mean': [np.mean(times)],\n",
    "            'time_std': [np.std(times)],\n",
    "            'time_min': [np.min(times)],\n",
    "            'time_max': [np.max(times)],\n",
    "            'iter_mean': [np.mean(iterations)],\n",
    "            'iter_std': [np.std(iterations)],\n",
    "            'iter_min': [np.min(iterations)],\n",
    "            'iter_max': [np.max(iterations)],\n",
    "            'num_failed': num_failed\n",
    "            })], ignore_index=True, axis=0)\n",
    "    print(f\"Solved for evaporation_rate={evaporation_rate}\")"
   ],
   "metadata": {
    "collapsed": false,
    "pycharm": {
     "name": "#%%\n"
    }
   }
  },
  {
   "cell_type": "code",
   "execution_count": 27,
   "outputs": [
    {
     "data": {
      "text/plain": "       board_name  num_ants  greediness  pheromone_decay  evaporation_rate  \\\n0  aiescargot.txt        10         0.9              0.1               0.0   \n1  aiescargot.txt        10         0.9              0.1               0.2   \n2  aiescargot.txt        10         0.9              0.1               0.4   \n3  aiescargot.txt        10         0.9              0.1               0.6   \n4  aiescargot.txt        10         0.9              0.1               0.8   \n5  aiescargot.txt        10         0.9              0.1               1.0   \n\n   best_evaporation_rate  time_mean  time_std  time_min   time_max  iter_mean  \\\n0                  0.005   1.902497  1.736025  0.414757   6.316786       13.4   \n1                  0.005   4.006092  3.541090  0.418752  11.652757       28.3   \n2                  0.005   3.403578  1.925552  0.553886   7.171685       24.3   \n3                  0.005   2.091734  1.204157  0.547697   4.159895       15.1   \n4                  0.005   3.643099  5.312983  0.144367  18.880373       25.7   \n5                  0.005   3.324364  2.503018  0.871765   9.329134       22.8   \n\n    iter_std  iter_min  iter_max  num_failed  \n0  12.387090         3        45           0  \n1  24.968180         3        82           0  \n2  13.667845         4        51           0  \n3   8.676981         4        30           0  \n4  37.124251         1       132           0  \n5  17.145262         6        64           0  ",
      "text/html": "<div>\n<style scoped>\n    .dataframe tbody tr th:only-of-type {\n        vertical-align: middle;\n    }\n\n    .dataframe tbody tr th {\n        vertical-align: top;\n    }\n\n    .dataframe thead th {\n        text-align: right;\n    }\n</style>\n<table border=\"1\" class=\"dataframe\">\n  <thead>\n    <tr style=\"text-align: right;\">\n      <th></th>\n      <th>board_name</th>\n      <th>num_ants</th>\n      <th>greediness</th>\n      <th>pheromone_decay</th>\n      <th>evaporation_rate</th>\n      <th>best_evaporation_rate</th>\n      <th>time_mean</th>\n      <th>time_std</th>\n      <th>time_min</th>\n      <th>time_max</th>\n      <th>iter_mean</th>\n      <th>iter_std</th>\n      <th>iter_min</th>\n      <th>iter_max</th>\n      <th>num_failed</th>\n    </tr>\n  </thead>\n  <tbody>\n    <tr>\n      <th>0</th>\n      <td>aiescargot.txt</td>\n      <td>10</td>\n      <td>0.9</td>\n      <td>0.1</td>\n      <td>0.0</td>\n      <td>0.005</td>\n      <td>1.902497</td>\n      <td>1.736025</td>\n      <td>0.414757</td>\n      <td>6.316786</td>\n      <td>13.4</td>\n      <td>12.387090</td>\n      <td>3</td>\n      <td>45</td>\n      <td>0</td>\n    </tr>\n    <tr>\n      <th>1</th>\n      <td>aiescargot.txt</td>\n      <td>10</td>\n      <td>0.9</td>\n      <td>0.1</td>\n      <td>0.2</td>\n      <td>0.005</td>\n      <td>4.006092</td>\n      <td>3.541090</td>\n      <td>0.418752</td>\n      <td>11.652757</td>\n      <td>28.3</td>\n      <td>24.968180</td>\n      <td>3</td>\n      <td>82</td>\n      <td>0</td>\n    </tr>\n    <tr>\n      <th>2</th>\n      <td>aiescargot.txt</td>\n      <td>10</td>\n      <td>0.9</td>\n      <td>0.1</td>\n      <td>0.4</td>\n      <td>0.005</td>\n      <td>3.403578</td>\n      <td>1.925552</td>\n      <td>0.553886</td>\n      <td>7.171685</td>\n      <td>24.3</td>\n      <td>13.667845</td>\n      <td>4</td>\n      <td>51</td>\n      <td>0</td>\n    </tr>\n    <tr>\n      <th>3</th>\n      <td>aiescargot.txt</td>\n      <td>10</td>\n      <td>0.9</td>\n      <td>0.1</td>\n      <td>0.6</td>\n      <td>0.005</td>\n      <td>2.091734</td>\n      <td>1.204157</td>\n      <td>0.547697</td>\n      <td>4.159895</td>\n      <td>15.1</td>\n      <td>8.676981</td>\n      <td>4</td>\n      <td>30</td>\n      <td>0</td>\n    </tr>\n    <tr>\n      <th>4</th>\n      <td>aiescargot.txt</td>\n      <td>10</td>\n      <td>0.9</td>\n      <td>0.1</td>\n      <td>0.8</td>\n      <td>0.005</td>\n      <td>3.643099</td>\n      <td>5.312983</td>\n      <td>0.144367</td>\n      <td>18.880373</td>\n      <td>25.7</td>\n      <td>37.124251</td>\n      <td>1</td>\n      <td>132</td>\n      <td>0</td>\n    </tr>\n    <tr>\n      <th>5</th>\n      <td>aiescargot.txt</td>\n      <td>10</td>\n      <td>0.9</td>\n      <td>0.1</td>\n      <td>1.0</td>\n      <td>0.005</td>\n      <td>3.324364</td>\n      <td>2.503018</td>\n      <td>0.871765</td>\n      <td>9.329134</td>\n      <td>22.8</td>\n      <td>17.145262</td>\n      <td>6</td>\n      <td>64</td>\n      <td>0</td>\n    </tr>\n  </tbody>\n</table>\n</div>"
     },
     "execution_count": 27,
     "metadata": {},
     "output_type": "execute_result"
    }
   ],
   "source": [
    "evaporation_rates_results"
   ],
   "metadata": {
    "collapsed": false,
    "pycharm": {
     "name": "#%%\n"
    }
   }
  },
  {
   "cell_type": "code",
   "execution_count": 28,
   "outputs": [],
   "source": [
    "evaporation_rates_results.to_csv(path_or_buf='aco_experiment_results/evaporation_rates_results.csv', index=False)"
   ],
   "metadata": {
    "collapsed": false,
    "pycharm": {
     "name": "#%%\n"
    }
   }
  },
  {
   "cell_type": "markdown",
   "source": [
    "#### Parowanie feromonu najlepszej wartości"
   ],
   "metadata": {
    "collapsed": false,
    "pycharm": {
     "name": "#%% md\n"
    }
   }
  },
  {
   "cell_type": "code",
   "execution_count": 29,
   "outputs": [],
   "source": [
    "BEST_EVAPORATION_RATES = [0.0, 0.001, 0.01, 0.1, 1.0]"
   ],
   "metadata": {
    "collapsed": false,
    "pycharm": {
     "name": "#%%\n"
    }
   }
  },
  {
   "cell_type": "code",
   "execution_count": 30,
   "outputs": [],
   "source": [
    "best_evaporation_rates_results = pd.DataFrame()"
   ],
   "metadata": {
    "collapsed": false,
    "pycharm": {
     "name": "#%%\n"
    }
   }
  },
  {
   "cell_type": "code",
   "execution_count": 31,
   "outputs": [
    {
     "name": "stdout",
     "output_type": "stream",
     "text": [
      "Solving for best_evaporation_rate=0.0 ...\n",
      "Solved for best_evaporation_rate=0.0\n",
      "Solving for best_evaporation_rate=0.001 ...\n",
      "Solved for best_evaporation_rate=0.001\n",
      "Solving for best_evaporation_rate=0.01 ...\n",
      "Solved for best_evaporation_rate=0.01\n",
      "Solving for best_evaporation_rate=0.1 ...\n",
      "Solved for best_evaporation_rate=0.1\n",
      "Solving for best_evaporation_rate=1.0 ...\n",
      "Solved for best_evaporation_rate=1.0\n"
     ]
    }
   ],
   "source": [
    "for best_evaporation_rate in BEST_EVAPORATION_RATES:\n",
    "    times = []\n",
    "    iterations = []\n",
    "    num_failed = 0\n",
    "    print(f\"Solving for best_evaporation_rate={best_evaporation_rate} ...\")\n",
    "    for i in range(NUM_RUNS):\n",
    "        solver = ACOSolver(\n",
    "                random_generator=rng,\n",
    "                board_size=9,\n",
    "                board_file=BOARD_PATH,\n",
    "                num_ants=10,\n",
    "                max_iterations=1000,\n",
    "                greediness=0.9,\n",
    "                pheromone_decay=0.1,\n",
    "                evaporation_rate=0.9,\n",
    "                best_evaporation_rate=best_evaporation_rate\n",
    "                )\n",
    "        is_solved, all_fixed_values_best, all_pheromones_to_add, all_perc_fixed_cells, all_iterations = solver.solve(logging=False)\n",
    "        times.append(solver.solution_time)\n",
    "        iterations.append(len(all_iterations))\n",
    "        if not is_solved:\n",
    "            num_failed += 1\n",
    "    best_evaporation_rates_results = pd.concat([best_evaporation_rates_results, pd.DataFrame({\n",
    "            'board_name': BOARD_PATH.split('/')[-1],\n",
    "            'num_ants': 10,\n",
    "            'greediness': 0.9,\n",
    "            'pheromone_decay': 0.1,\n",
    "            'evaporation_rate': 0.9,\n",
    "            'best_evaporation_rate': best_evaporation_rate,\n",
    "            'time_mean': [np.mean(times)],\n",
    "            'time_std': [np.std(times)],\n",
    "            'time_min': [np.min(times)],\n",
    "            'time_max': [np.max(times)],\n",
    "            'iter_mean': [np.mean(iterations)],\n",
    "            'iter_std': [np.std(iterations)],\n",
    "            'iter_min': [np.min(iterations)],\n",
    "            'iter_max': [np.max(iterations)],\n",
    "            'num_failed': num_failed\n",
    "            })], ignore_index=True, axis=0)\n",
    "    print(f\"Solved for best_evaporation_rate={best_evaporation_rate}\")"
   ],
   "metadata": {
    "collapsed": false,
    "pycharm": {
     "name": "#%%\n"
    }
   }
  },
  {
   "cell_type": "code",
   "execution_count": 32,
   "outputs": [
    {
     "data": {
      "text/plain": "       board_name  num_ants  greediness  pheromone_decay  evaporation_rate  \\\n0  aiescargot.txt        10         0.9              0.1               0.9   \n1  aiescargot.txt        10         0.9              0.1               0.9   \n2  aiescargot.txt        10         0.9              0.1               0.9   \n3  aiescargot.txt        10         0.9              0.1               0.9   \n4  aiescargot.txt        10         0.9              0.1               0.9   \n\n   best_evaporation_rate  time_mean  time_std  time_min  time_max  iter_mean  \\\n0                  0.000   2.370763  1.668879  0.144860  4.895242       16.4   \n1                  0.001   2.531556  2.017422  0.440653  7.585814       17.3   \n2                  0.010   2.020039  1.541142  0.419530  4.921260       14.3   \n3                  0.100   3.050178  2.659112  0.142730  9.921551       20.9   \n4                  1.000   2.034090  1.194771  0.147021  4.400462       13.9   \n\n    iter_std  iter_min  iter_max  num_failed  \n0  11.542963         1        34           0  \n1  13.820637         3        52           0  \n2  10.900000         3        35           0  \n3  18.239792         1        68           0  \n4   8.154140         1        30           0  ",
      "text/html": "<div>\n<style scoped>\n    .dataframe tbody tr th:only-of-type {\n        vertical-align: middle;\n    }\n\n    .dataframe tbody tr th {\n        vertical-align: top;\n    }\n\n    .dataframe thead th {\n        text-align: right;\n    }\n</style>\n<table border=\"1\" class=\"dataframe\">\n  <thead>\n    <tr style=\"text-align: right;\">\n      <th></th>\n      <th>board_name</th>\n      <th>num_ants</th>\n      <th>greediness</th>\n      <th>pheromone_decay</th>\n      <th>evaporation_rate</th>\n      <th>best_evaporation_rate</th>\n      <th>time_mean</th>\n      <th>time_std</th>\n      <th>time_min</th>\n      <th>time_max</th>\n      <th>iter_mean</th>\n      <th>iter_std</th>\n      <th>iter_min</th>\n      <th>iter_max</th>\n      <th>num_failed</th>\n    </tr>\n  </thead>\n  <tbody>\n    <tr>\n      <th>0</th>\n      <td>aiescargot.txt</td>\n      <td>10</td>\n      <td>0.9</td>\n      <td>0.1</td>\n      <td>0.9</td>\n      <td>0.000</td>\n      <td>2.370763</td>\n      <td>1.668879</td>\n      <td>0.144860</td>\n      <td>4.895242</td>\n      <td>16.4</td>\n      <td>11.542963</td>\n      <td>1</td>\n      <td>34</td>\n      <td>0</td>\n    </tr>\n    <tr>\n      <th>1</th>\n      <td>aiescargot.txt</td>\n      <td>10</td>\n      <td>0.9</td>\n      <td>0.1</td>\n      <td>0.9</td>\n      <td>0.001</td>\n      <td>2.531556</td>\n      <td>2.017422</td>\n      <td>0.440653</td>\n      <td>7.585814</td>\n      <td>17.3</td>\n      <td>13.820637</td>\n      <td>3</td>\n      <td>52</td>\n      <td>0</td>\n    </tr>\n    <tr>\n      <th>2</th>\n      <td>aiescargot.txt</td>\n      <td>10</td>\n      <td>0.9</td>\n      <td>0.1</td>\n      <td>0.9</td>\n      <td>0.010</td>\n      <td>2.020039</td>\n      <td>1.541142</td>\n      <td>0.419530</td>\n      <td>4.921260</td>\n      <td>14.3</td>\n      <td>10.900000</td>\n      <td>3</td>\n      <td>35</td>\n      <td>0</td>\n    </tr>\n    <tr>\n      <th>3</th>\n      <td>aiescargot.txt</td>\n      <td>10</td>\n      <td>0.9</td>\n      <td>0.1</td>\n      <td>0.9</td>\n      <td>0.100</td>\n      <td>3.050178</td>\n      <td>2.659112</td>\n      <td>0.142730</td>\n      <td>9.921551</td>\n      <td>20.9</td>\n      <td>18.239792</td>\n      <td>1</td>\n      <td>68</td>\n      <td>0</td>\n    </tr>\n    <tr>\n      <th>4</th>\n      <td>aiescargot.txt</td>\n      <td>10</td>\n      <td>0.9</td>\n      <td>0.1</td>\n      <td>0.9</td>\n      <td>1.000</td>\n      <td>2.034090</td>\n      <td>1.194771</td>\n      <td>0.147021</td>\n      <td>4.400462</td>\n      <td>13.9</td>\n      <td>8.154140</td>\n      <td>1</td>\n      <td>30</td>\n      <td>0</td>\n    </tr>\n  </tbody>\n</table>\n</div>"
     },
     "execution_count": 32,
     "metadata": {},
     "output_type": "execute_result"
    }
   ],
   "source": [
    "best_evaporation_rates_results"
   ],
   "metadata": {
    "collapsed": false,
    "pycharm": {
     "name": "#%%\n"
    }
   }
  },
  {
   "cell_type": "code",
   "execution_count": 33,
   "outputs": [],
   "source": [
    "best_evaporation_rates_results.to_csv(path_or_buf='aco_experiment_results/best_evaporation_rates_results.csv', index=False)"
   ],
   "metadata": {
    "collapsed": false,
    "pycharm": {
     "name": "#%%\n"
    }
   }
  },
  {
   "cell_type": "code",
   "execution_count": 33,
   "outputs": [],
   "source": [],
   "metadata": {
    "collapsed": false,
    "pycharm": {
     "name": "#%%\n"
    }
   }
  }
 ],
 "metadata": {
  "kernelspec": {
   "display_name": "Python 3",
   "language": "python",
   "name": "python3"
  },
  "language_info": {
   "codemirror_mode": {
    "name": "ipython",
    "version": 2
   },
   "file_extension": ".py",
   "mimetype": "text/x-python",
   "name": "python",
   "nbconvert_exporter": "python",
   "pygments_lexer": "ipython2",
   "version": "2.7.6"
  }
 },
 "nbformat": 4,
 "nbformat_minor": 0
}